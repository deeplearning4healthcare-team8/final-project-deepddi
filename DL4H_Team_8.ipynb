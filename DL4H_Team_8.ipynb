{
 "cells": [
  {
   "cell_type": "markdown",
   "metadata": {
    "id": "T9Kgz-IaXh1o"
   },
   "source": [
    "\n",
    "# Reproduction of Deep learning improves prediction of drug–drug and drug–food interactions<sup>[1]</sup>\n",
    "---\n",
    "Team: **Ahmad Sadeed** (asadeed2), **Andrew Vamos** (avamos2), **Jonathon Green** (jg70)\n",
    "git repo: https://github.com/deeplearning4healthcare-team8/final-project-deepddi\n",
    "Video: https://www.youtube.com/watch?v=rysiKnBnmdY\n",
    "Date: May 7, 2024\n",
    "\n",
    "\n",
    "Overview: This Jupyter notebook contains a demonstration of how the model for the original paper by Ryu et al<sup>[1]</sup> can be trained successfully using the ChemicalX DDI Python package<sup>[2]</sup>. Here, we demonstrate successful training of a small sized model, then load in fully trained models (via gdown) which were trained locally and plot their performance. The colab link here contains the previous draft for our submission within in a runnable colab notebook: https://colab.research.google.com/drive/1czVPpoFmBesy3y0TGJ8OGixW-emzf3Cq?authuser=1"
   ]
  },
  {
   "cell_type": "markdown",
   "metadata": {
    "id": "p4M659BKCX_3"
   },
   "source": [
    "## Install Packages"
   ]
  },
  {
   "cell_type": "code",
   "execution_count": 43,
   "metadata": {
    "id": "bKdOpIxh7URZ"
   },
   "outputs": [
    {
     "name": "stdout",
     "output_type": "stream",
     "text": [
      "Requirement already satisfied: wheel in c:\\users\\andre\\anaconda3\\envs\\cs598_dlh_proj\\lib\\site-packages (0.41.2)\n"
     ]
    },
    {
     "data": {
      "application/javascript": "alert('Please do not restart this session when prompted.');",
      "text/plain": [
       "<IPython.core.display.Javascript object>"
      ]
     },
     "metadata": {},
     "output_type": "display_data"
    },
    {
     "name": "stderr",
     "output_type": "stream",
     "text": [
      "'wget' is not recognized as an internal or external command,\n",
      "operable program or batch file.\n",
      "'export' is not recognized as an internal or external command,\n",
      "operable program or batch file.\n",
      "'authuser' is not recognized as an internal or external command,\n",
      "operable program or batch file.\n"
     ]
    },
    {
     "name": "stdout",
     "output_type": "stream",
     "text": [
      "Processing c:\\users\\andre\\documents\\uiuc_mcs\\2024_spring_cs598dl4h\\project\\final_repo\\final-project-deepddi\\pytdc-0.4.1-py3-none-any.whl\n"
     ]
    },
    {
     "name": "stderr",
     "output_type": "stream",
     "text": [
      "WARNING: Requirement 'PyTDC-0.4.1-py3-none-any.whl' looks like a filename, but the file does not exist\n",
      "ERROR: Could not install packages due to an OSError: [Errno 2] No such file or directory: 'C:\\\\Users\\\\Andre\\\\Documents\\\\UIUC_MCS\\\\2024_Spring_CS598DL4H\\\\Project\\\\final_repo\\\\final-project-deepddi\\\\PyTDC-0.4.1-py3-none-any.whl'\n",
      "\n",
      "'wget' is not recognized as an internal or external command,\n",
      "operable program or batch file.\n",
      "'export' is not recognized as an internal or external command,\n",
      "operable program or batch file.\n",
      "'authuser' is not recognized as an internal or external command,\n",
      "operable program or batch file.\n",
      "WARNING: Requirement 'torch_cluster-1.6.3-cp310-cp310-linux_x86_64.whl' looks like a filename, but the file does not exist\n",
      "ERROR: torch_cluster-1.6.3-cp310-cp310-linux_x86_64.whl is not a supported wheel on this platform.\n",
      "'wget' is not recognized as an internal or external command,\n",
      "operable program or batch file.\n",
      "'export' is not recognized as an internal or external command,\n",
      "operable program or batch file.\n",
      "'authuser' is not recognized as an internal or external command,\n",
      "operable program or batch file.\n",
      "WARNING: Requirement 'torch_scatter-2.1.2-cp310-cp310-linux_x86_64.whl' looks like a filename, but the file does not exist\n",
      "ERROR: torch_scatter-2.1.2-cp310-cp310-linux_x86_64.whl is not a supported wheel on this platform.\n",
      "'wget' is not recognized as an internal or external command,\n",
      "operable program or batch file.\n",
      "'export' is not recognized as an internal or external command,\n",
      "operable program or batch file.\n",
      "'authuser' is not recognized as an internal or external command,\n",
      "operable program or batch file.\n"
     ]
    },
    {
     "name": "stdout",
     "output_type": "stream",
     "text": [
      "Processing c:\\users\\andre\\documents\\uiuc_mcs\\2024_spring_cs598dl4h\\project\\final_repo\\final-project-deepddi\\chemicalx-0.1.0-py3-none-any.whl\n"
     ]
    },
    {
     "name": "stderr",
     "output_type": "stream",
     "text": [
      "WARNING: Requirement 'chemicalx-0.1.0-py3-none-any.whl' looks like a filename, but the file does not exist\n",
      "ERROR: Could not install packages due to an OSError: [Errno 2] No such file or directory: 'C:\\\\Users\\\\Andre\\\\Documents\\\\UIUC_MCS\\\\2024_Spring_CS598DL4H\\\\Project\\\\final_repo\\\\final-project-deepddi\\\\chemicalx-0.1.0-py3-none-any.whl'\n",
      "\n"
     ]
    },
    {
     "name": "stdout",
     "output_type": "stream",
     "text": [
      "Requirement already satisfied: torchinfo in c:\\users\\andre\\anaconda3\\envs\\cs598_dlh_proj\\lib\\site-packages (1.8.0)\n",
      "Requirement already satisfied: plotly in c:\\users\\andre\\anaconda3\\envs\\cs598_dlh_proj\\lib\\site-packages (5.22.0)\n",
      "Requirement already satisfied: torchsummary in c:\\users\\andre\\anaconda3\\envs\\cs598_dlh_proj\\lib\\site-packages (1.5.1)\n",
      "Requirement already satisfied: ipykernel in c:\\users\\andre\\anaconda3\\envs\\cs598_dlh_proj\\lib\\site-packages (6.28.0)\n",
      "Requirement already satisfied: gdown in c:\\users\\andre\\anaconda3\\envs\\cs598_dlh_proj\\lib\\site-packages (5.1.0)\n",
      "Requirement already satisfied: tenacity>=6.2.0 in c:\\users\\andre\\anaconda3\\envs\\cs598_dlh_proj\\lib\\site-packages (from plotly) (8.2.3)\n",
      "Requirement already satisfied: packaging in c:\\users\\andre\\anaconda3\\envs\\cs598_dlh_proj\\lib\\site-packages (from plotly) (23.2)\n",
      "Requirement already satisfied: comm>=0.1.1 in c:\\users\\andre\\anaconda3\\envs\\cs598_dlh_proj\\lib\\site-packages (from ipykernel) (0.2.1)\n",
      "Requirement already satisfied: debugpy>=1.6.5 in c:\\users\\andre\\anaconda3\\envs\\cs598_dlh_proj\\lib\\site-packages (from ipykernel) (1.6.7)\n",
      "Requirement already satisfied: ipython>=7.23.1 in c:\\users\\andre\\anaconda3\\envs\\cs598_dlh_proj\\lib\\site-packages (from ipykernel) (8.12.2)\n",
      "Requirement already satisfied: jupyter-client>=6.1.12 in c:\\users\\andre\\anaconda3\\envs\\cs598_dlh_proj\\lib\\site-packages (from ipykernel) (8.6.0)\n",
      "Requirement already satisfied: jupyter-core!=5.0.*,>=4.12 in c:\\users\\andre\\anaconda3\\envs\\cs598_dlh_proj\\lib\\site-packages (from ipykernel) (5.5.0)\n",
      "Requirement already satisfied: matplotlib-inline>=0.1 in c:\\users\\andre\\anaconda3\\envs\\cs598_dlh_proj\\lib\\site-packages (from ipykernel) (0.1.6)\n",
      "Requirement already satisfied: nest-asyncio in c:\\users\\andre\\anaconda3\\envs\\cs598_dlh_proj\\lib\\site-packages (from ipykernel) (1.6.0)\n",
      "Requirement already satisfied: psutil in c:\\users\\andre\\anaconda3\\envs\\cs598_dlh_proj\\lib\\site-packages (from ipykernel) (5.9.0)\n",
      "Requirement already satisfied: pyzmq>=24 in c:\\users\\andre\\anaconda3\\envs\\cs598_dlh_proj\\lib\\site-packages (from ipykernel) (25.1.2)\n",
      "Requirement already satisfied: tornado>=6.1 in c:\\users\\andre\\anaconda3\\envs\\cs598_dlh_proj\\lib\\site-packages (from ipykernel) (6.3.3)\n",
      "Requirement already satisfied: traitlets>=5.4.0 in c:\\users\\andre\\anaconda3\\envs\\cs598_dlh_proj\\lib\\site-packages (from ipykernel) (5.7.1)\n",
      "Requirement already satisfied: beautifulsoup4 in c:\\users\\andre\\anaconda3\\envs\\cs598_dlh_proj\\lib\\site-packages (from gdown) (4.12.3)\n",
      "Requirement already satisfied: filelock in c:\\users\\andre\\anaconda3\\envs\\cs598_dlh_proj\\lib\\site-packages (from gdown) (3.13.4)\n",
      "Requirement already satisfied: requests[socks] in c:\\users\\andre\\anaconda3\\envs\\cs598_dlh_proj\\lib\\site-packages (from gdown) (2.31.0)\n",
      "Requirement already satisfied: tqdm in c:\\users\\andre\\anaconda3\\envs\\cs598_dlh_proj\\lib\\site-packages (from gdown) (4.66.2)\n",
      "Requirement already satisfied: backcall in c:\\users\\andre\\anaconda3\\envs\\cs598_dlh_proj\\lib\\site-packages (from ipython>=7.23.1->ipykernel) (0.2.0)\n",
      "Requirement already satisfied: decorator in c:\\users\\andre\\anaconda3\\envs\\cs598_dlh_proj\\lib\\site-packages (from ipython>=7.23.1->ipykernel) (5.1.1)\n",
      "Requirement already satisfied: jedi>=0.16 in c:\\users\\andre\\anaconda3\\envs\\cs598_dlh_proj\\lib\\site-packages (from ipython>=7.23.1->ipykernel) (0.18.1)\n",
      "Requirement already satisfied: pickleshare in c:\\users\\andre\\anaconda3\\envs\\cs598_dlh_proj\\lib\\site-packages (from ipython>=7.23.1->ipykernel) (0.7.5)\n",
      "Requirement already satisfied: prompt-toolkit!=3.0.37,<3.1.0,>=3.0.30 in c:\\users\\andre\\anaconda3\\envs\\cs598_dlh_proj\\lib\\site-packages (from ipython>=7.23.1->ipykernel) (3.0.43)\n",
      "Requirement already satisfied: pygments>=2.4.0 in c:\\users\\andre\\anaconda3\\envs\\cs598_dlh_proj\\lib\\site-packages (from ipython>=7.23.1->ipykernel) (2.15.1)\n",
      "Requirement already satisfied: stack-data in c:\\users\\andre\\anaconda3\\envs\\cs598_dlh_proj\\lib\\site-packages (from ipython>=7.23.1->ipykernel) (0.2.0)\n",
      "Requirement already satisfied: typing-extensions in c:\\users\\andre\\anaconda3\\envs\\cs598_dlh_proj\\lib\\site-packages (from ipython>=7.23.1->ipykernel) (4.11.0)\n",
      "Requirement already satisfied: colorama in c:\\users\\andre\\anaconda3\\envs\\cs598_dlh_proj\\lib\\site-packages (from ipython>=7.23.1->ipykernel) (0.4.6)\n",
      "Requirement already satisfied: importlib-metadata>=4.8.3 in c:\\users\\andre\\anaconda3\\envs\\cs598_dlh_proj\\lib\\site-packages (from jupyter-client>=6.1.12->ipykernel) (7.0.1)\n",
      "Requirement already satisfied: python-dateutil>=2.8.2 in c:\\users\\andre\\anaconda3\\envs\\cs598_dlh_proj\\lib\\site-packages (from jupyter-client>=6.1.12->ipykernel) (2.8.2)\n",
      "Requirement already satisfied: platformdirs>=2.5 in c:\\users\\andre\\anaconda3\\envs\\cs598_dlh_proj\\lib\\site-packages (from jupyter-core!=5.0.*,>=4.12->ipykernel) (3.10.0)\n",
      "Requirement already satisfied: pywin32>=300 in c:\\users\\andre\\anaconda3\\envs\\cs598_dlh_proj\\lib\\site-packages (from jupyter-core!=5.0.*,>=4.12->ipykernel) (305.1)\n",
      "Requirement already satisfied: soupsieve>1.2 in c:\\users\\andre\\anaconda3\\envs\\cs598_dlh_proj\\lib\\site-packages (from beautifulsoup4->gdown) (2.5)\n",
      "Requirement already satisfied: charset-normalizer<4,>=2 in c:\\users\\andre\\anaconda3\\envs\\cs598_dlh_proj\\lib\\site-packages (from requests[socks]->gdown) (3.3.2)\n",
      "Requirement already satisfied: idna<4,>=2.5 in c:\\users\\andre\\anaconda3\\envs\\cs598_dlh_proj\\lib\\site-packages (from requests[socks]->gdown) (3.7)\n",
      "Requirement already satisfied: urllib3<3,>=1.21.1 in c:\\users\\andre\\anaconda3\\envs\\cs598_dlh_proj\\lib\\site-packages (from requests[socks]->gdown) (2.2.1)\n",
      "Requirement already satisfied: certifi>=2017.4.17 in c:\\users\\andre\\anaconda3\\envs\\cs598_dlh_proj\\lib\\site-packages (from requests[socks]->gdown) (2024.2.2)\n",
      "Requirement already satisfied: PySocks!=1.5.7,>=1.5.6 in c:\\users\\andre\\anaconda3\\envs\\cs598_dlh_proj\\lib\\site-packages (from requests[socks]->gdown) (1.7.1)\n",
      "Requirement already satisfied: zipp>=0.5 in c:\\users\\andre\\anaconda3\\envs\\cs598_dlh_proj\\lib\\site-packages (from importlib-metadata>=4.8.3->jupyter-client>=6.1.12->ipykernel) (3.17.0)\n",
      "Requirement already satisfied: parso<0.9.0,>=0.8.0 in c:\\users\\andre\\anaconda3\\envs\\cs598_dlh_proj\\lib\\site-packages (from jedi>=0.16->ipython>=7.23.1->ipykernel) (0.8.3)\n",
      "Requirement already satisfied: wcwidth in c:\\users\\andre\\anaconda3\\envs\\cs598_dlh_proj\\lib\\site-packages (from prompt-toolkit!=3.0.37,<3.1.0,>=3.0.30->ipython>=7.23.1->ipykernel) (0.2.5)\n",
      "Requirement already satisfied: six>=1.5 in c:\\users\\andre\\anaconda3\\envs\\cs598_dlh_proj\\lib\\site-packages (from python-dateutil>=2.8.2->jupyter-client>=6.1.12->ipykernel) (1.16.0)\n",
      "Requirement already satisfied: executing in c:\\users\\andre\\anaconda3\\envs\\cs598_dlh_proj\\lib\\site-packages (from stack-data->ipython>=7.23.1->ipykernel) (0.8.3)\n",
      "Requirement already satisfied: asttokens in c:\\users\\andre\\anaconda3\\envs\\cs598_dlh_proj\\lib\\site-packages (from stack-data->ipython>=7.23.1->ipykernel) (2.0.5)\n",
      "Requirement already satisfied: pure-eval in c:\\users\\andre\\anaconda3\\envs\\cs598_dlh_proj\\lib\\site-packages (from stack-data->ipython>=7.23.1->ipykernel) (0.2.2)\n",
      "Requirement already satisfied: nbformat in c:\\users\\andre\\anaconda3\\envs\\cs598_dlh_proj\\lib\\site-packages (5.10.4)\n",
      "Requirement already satisfied: fastjsonschema>=2.15 in c:\\users\\andre\\anaconda3\\envs\\cs598_dlh_proj\\lib\\site-packages (from nbformat) (2.19.1)\n",
      "Requirement already satisfied: jsonschema>=2.6 in c:\\users\\andre\\anaconda3\\envs\\cs598_dlh_proj\\lib\\site-packages (from nbformat) (4.22.0)\n",
      "Requirement already satisfied: jupyter-core!=5.0.*,>=4.12 in c:\\users\\andre\\anaconda3\\envs\\cs598_dlh_proj\\lib\\site-packages (from nbformat) (5.5.0)\n",
      "Requirement already satisfied: traitlets>=5.1 in c:\\users\\andre\\anaconda3\\envs\\cs598_dlh_proj\\lib\\site-packages (from nbformat) (5.7.1)\n",
      "Requirement already satisfied: attrs>=22.2.0 in c:\\users\\andre\\anaconda3\\envs\\cs598_dlh_proj\\lib\\site-packages (from jsonschema>=2.6->nbformat) (23.2.0)\n",
      "Requirement already satisfied: importlib-resources>=1.4.0 in c:\\users\\andre\\anaconda3\\envs\\cs598_dlh_proj\\lib\\site-packages (from jsonschema>=2.6->nbformat) (6.4.0)\n",
      "Requirement already satisfied: jsonschema-specifications>=2023.03.6 in c:\\users\\andre\\anaconda3\\envs\\cs598_dlh_proj\\lib\\site-packages (from jsonschema>=2.6->nbformat) (2023.12.1)\n",
      "Requirement already satisfied: pkgutil-resolve-name>=1.3.10 in c:\\users\\andre\\anaconda3\\envs\\cs598_dlh_proj\\lib\\site-packages (from jsonschema>=2.6->nbformat) (1.3.10)\n",
      "Requirement already satisfied: referencing>=0.28.4 in c:\\users\\andre\\anaconda3\\envs\\cs598_dlh_proj\\lib\\site-packages (from jsonschema>=2.6->nbformat) (0.35.1)\n",
      "Requirement already satisfied: rpds-py>=0.7.1 in c:\\users\\andre\\anaconda3\\envs\\cs598_dlh_proj\\lib\\site-packages (from jsonschema>=2.6->nbformat) (0.18.0)\n",
      "Requirement already satisfied: platformdirs>=2.5 in c:\\users\\andre\\anaconda3\\envs\\cs598_dlh_proj\\lib\\site-packages (from jupyter-core!=5.0.*,>=4.12->nbformat) (3.10.0)\n",
      "Requirement already satisfied: pywin32>=300 in c:\\users\\andre\\anaconda3\\envs\\cs598_dlh_proj\\lib\\site-packages (from jupyter-core!=5.0.*,>=4.12->nbformat) (305.1)\n",
      "Requirement already satisfied: zipp>=3.1.0 in c:\\users\\andre\\anaconda3\\envs\\cs598_dlh_proj\\lib\\site-packages (from importlib-resources>=1.4.0->jsonschema>=2.6->nbformat) (3.17.0)\n"
     ]
    }
   ],
   "source": [
    "import os\n",
    "from IPython.display import display, Javascript\n",
    "\n",
    "prebuilt = True\n",
    "arch_x86_64 = True\n",
    "\n",
    "if prebuilt and arch_x86_64:\n",
    "\n",
    "  def show_alert(message):\n",
    "      js_code = f\"alert('{message}');\"\n",
    "      display(Javascript(js_code))\n",
    "\n",
    "  # Packages needed for the prebuilt wheels\n",
    "  !pip install wheel\n",
    "\n",
    "  # PyTDC-0.4.1-py3-none-any.whl # This package prompts the user to restart the session after it's installed\n",
    "  show_alert(\"Please do not restart this session when prompted.\")\n",
    "  !wget -O PyTDC-0.4.1-py3-none-any.whl https://drive.usercontent.google.com/download?id=1JbHuCkbLIp9BTbNlj3MB75WfTbz_HUkN&export=download&authuser=0\n",
    "  !pip install PyTDC-0.4.1-py3-none-any.whl\n",
    "\n",
    "  # torch_cluster-1.6.3-cp310-cp310-linux_x86_64.whl\n",
    "  !wget -O torch_cluster-1.6.3-cp310-cp310-linux_x86_64.whl https://drive.usercontent.google.com/download?id=18p4c1tfkp_-xX7OMbDrhFDYK3viefOsY&export=download&authuser=0\n",
    "  !pip install torch_cluster-1.6.3-cp310-cp310-linux_x86_64.whl\n",
    "\n",
    "  # torch_scatter-2.1.2-cp310-cp310-linux_x86_64.whl\n",
    "  !wget -O torch_scatter-2.1.2-cp310-cp310-linux_x86_64.whl https://drive.usercontent.google.com/download?id=1wi-QdBqogm2K0UG-V-oZLImJw9kSWQaL&export=download&authuser=0\n",
    "  !pip install torch_scatter-2.1.2-cp310-cp310-linux_x86_64.whl\n",
    "\n",
    "  # chemicalx-0.1.0-py3-none-any.whl\n",
    "  !wget -O chemicalx-0.1.0-py3-none-any.whl https://drive.usercontent.google.com/download?id=1ZuzW7nq1QPHkXZH9keyvWmxm1eHpYqyq&export=download&authuser=0\n",
    "  !pip install chemicalx-0.1.0-py3-none-any.whl\n",
    "\n",
    "else:\n",
    "  !pip install torch torchvision torchaudio --index-url https://download.pytorch.org/whl/cu121\n",
    "  !pip install torch-scatter -f https://data.pyg.org/whl/torch-2.2.2+cu121.html\n",
    "  !pip install torch-cluster -f https://data.pyg.org/whl/torch-2.2.2+cu121.html\n",
    "\n",
    "  # The official package requires 3.8, we're using a fork that's 3.10 compatiable\n",
    "  !pip install git+https://github.com/lucag2/chemicalx#egg=chemicalx # ref [3]\n",
    "\n",
    "# other packages\n",
    "!pip install torchinfo plotly torchsummary ipykernel gdown\n",
    "!pip install --upgrade nbformat"
   ]
  },
  {
   "cell_type": "markdown",
   "metadata": {
    "id": "MQ0sNuMePBXx"
   },
   "source": [
    "# Introduction\n",
    "\n",
    "Drug-drug interactions (DDIs) and drug-food interactions (DFIs) significantly impact patient safety and treatment efficacy, presenting complex challenges in pharmacology. Predicting these interactions is crucial but difficult due to the extensive data requirements and often poorly understood mechanisms involved.\n",
    "\n",
    "The paper by Jae Yong Ryu, Hyun Uk Kim, and Sang Yup Lee<sup>[1]</sup> introduces DeepDDI, a computational framework that uses deep learning to predict DDIs and DFIs from basic drug names and structural information. This method significantly advances the state of the art by not only predicting the occurrence of drug interactions but also describing their potential pharmacological effects in human-readable terms, achieving a mean accuracy of 92.4% across 86 DDI types with the DrugBank<sup>[4]</sup> dataset.\n",
    "\n",
    "DeepDDI's innovative approach enhances understanding of drug interactions, supports informed clinical decisions, and offers potential mitigation strategies for adverse effects, marking a substantial contribution to the field.Development of models such as DeepDDI should lead to improved safety around drug administration, particularly as new drugs are introduced to the medical community.\n",
    "\n",
    "Our project aims to replicate the findings of Ryu et al<sup>[1]</sup>. to assess the reproducibility of DeepDDI in a standard computational environment like Google Colab, highlighting its practical implications for improving drug safety and therapeutic strategies.\n"
   ]
  },
  {
   "cell_type": "markdown",
   "metadata": {
    "id": "uygL9tTPSVHB"
   },
   "source": [
    "# Scope of Reproducibility:\n",
    "\n",
    "Our project seeks to validate critical aspects of the DeepDDI model proposed by Ryu et al<sup>[1]</sup>. to assess its practicality, accuracy, and usability in predicting drug-drug and drug-food interactions using a standard computational environment. The following hypotheses from the original paper will be tested with corresponding experiments:\n",
    "\n",
    "**Hypothesis**: DeepDDI can predict drug-drug interactions with high accuracy using only drug names and structural information as inputs.\n",
    "\n",
    "* Experiment: We will replicate the model using the same dataset from DrugBank<sup>[4]</sup> used in the original study. Our experiment will involve retraining the DeepDDI model within our environment (Google Colab) and comparing the prediction accuracy with the reported mean accuracy of 92.4%. This test will confirm if DeepDDI maintains its efficacy across different computational setups.\n",
    "\n"
   ]
  },
  {
   "cell_type": "markdown",
   "metadata": {
    "id": "xWAHJ_1CdtaA"
   },
   "source": [
    "# Methodology\n",
    "\n",
    "This section is organized into five primary subsections: Environment, Data, Model, Training, and Evaluation. Together, these describe the comprehensive framework of our experimental setup, ensuring a clear understanding of each component involved in the study.\n",
    "\n",
    "-   **Environment**: This subsection outlines the technical setup and computational resources used to conduct the experiments. It includes details about the software environment, including Python versions, necessary libraries, and frameworks like ChemicalX.\n",
    "\n",
    "-   **Data**: This subsection details the source, structure, and processing of the data used in our experiments. It describes how the data was acquired, any preprocessing steps taken, and the final format used for modeling. This ensures transparency and reproducibility in how data is handled and prepared for modeling.\n",
    "\n",
    "-   **Model**: This subsection describes the architecture of the neural networks used, including layers, nodes, and activation functions. It details the rationale behind the choice of architecture and how it is suited to address the problem at hand. The section also includes the specific configurations tested, the training process, and the techniques used for model validation.\n",
    "\n",
    "-   **Training**: This subsection explains the procedures followed during the model training phase. It includes details on the training algorithms, batch sizes, number of epochs, and learning rates. Adjustments made to the model during the training process, such as tuning hyperparameters and applying regularization techniques like dropout or batch normalization, are also described.\n",
    "\n",
    "-   **Evaluation**: This subsection details how the models were evaluated. It describes the metrics used to assess model performance, such as accuracy, precision, recall, and F1 score. It also explains the validation techniques employed, including cross-validation or the use of a hold-out validation set, to ensure that the evaluation is robust and the model generalizes well to unseen data.\n",
    "\n",
    "Each part is accompanied by annotated code snippets that not only execute the described procedures but also clarify the purpose and functionality of each step in the process. This not only aids in replicating the study but also provides a deep insight into the practical aspects of machine learning model development and evaluation."
   ]
  },
  {
   "cell_type": "markdown",
   "metadata": {},
   "source": [
    "## Environment\n",
    "\n",
    "### Python Configuration\n",
    "\n",
    "Our project is implemented using Python 3.10. This decision was driven by the need for compatibility with certain dependencies, notably a version of the chemicalx package which we have a fork that supports Python 3.10. This version of Python also ensures our project can run seamlessly on platforms like Google Colab, facilitating easier replication and execution of our codebase.\n",
    "\n",
    "### Dependency Management\n",
    "\n",
    "We have employed a robust dependency management system that utilizes `pyenv` and `pipenv` to create a consistent development environment. This setup helps in avoiding the common pitfalls associated with package version discrepancies and ensures that our project dependencies are managed with precision. We utilize `pip` directly within our Jupyter Notebook to manage dependencies efficiently on Jupyter servers, especially in environments where pyenv or `pipenv` may not be available.\n",
    "\n",
    "#### Setup Using `pyenv`\n",
    "\n",
    "`pyenv` is used to manage multiple Python versions. It allows us to specify a project-specific Python version, ensuring that all team members are working with the same configuration. The Python version is defined in a .python-version file, which `pyenv` automatically references to set the local Python environment.\n",
    "\n",
    "#### Dependency Installation with `pipenv`\n",
    "\n",
    "`pipenv` is utilized for managing project packages. It combines pip and virtualenv into one tool, which simplifies dependency management. The Pipfile and Pipfile.lock ensure that installations are consistent across different environments. Our Pipfile specifies all the necessary packages, including their sources and required versions, making it straightforward for anyone to set up their environment. The package list managed by `pipenv` can be easily exported to a requirements.txt file using the command `pipenv requirements > requirements.txt`. This can be particularly useful for configuring more complex server environments where minimizing the amount of tools installed is desirable.\n",
    "\n",
    "### Package Installation\n",
    "\n",
    "The following commands detail the process to set up the necessary Python environment and install the required packages:\n",
    "\n",
    "```bash\n",
    "make init\n",
    "```\n",
    "\n",
    "### Specific Package Considerations\n",
    "\n",
    "Our project relies on specific packages that are crucial for running the models:\n",
    "\n",
    "-   PyTorch and Related Libraries: For neural network implementation and operations, we use torch, torchvision, torchaudio, torch-scatter, and torch-cluster.\n",
    "\n",
    "-   ChemicalX: A fork of the chemicalx package that is compatible with Python 3.10 is used, sourced directly from a GitHub repository.\n",
    "\n",
    "-   Visualization and Utility Tools: Packages like plotly, torchinfo, torchsummary, ipykernel, gdown, and nbformat are included for various functionalities ranging from data visualization to notebook execution management.\n",
    "\n",
    "### Local and Colab Compatibility\n",
    "\n",
    "Our environment setup is designed to be compatible with both local development and cloud platforms like Google Colab. This ensures that our project can be executed in diverse settings without any configuration changes. The specific package versions and setup instructions are included in the Jupyter Notebook, allowing anyone to replicate our environment easily."
   ]
  },
  {
   "cell_type": "code",
   "execution_count": 25,
   "metadata": {
    "ExecuteTime": {
     "end_time": "2024-05-06T06:36:29.434322Z",
     "start_time": "2024-05-06T06:36:27.227677Z"
    },
    "executionInfo": {
     "elapsed": 5,
     "status": "ok",
     "timestamp": 1713154134023,
     "user": {
      "displayName": "Andrew Vamos",
      "userId": "04562579817850856492"
     },
     "user_tz": 240
    },
    "id": "N0jQ00MtR0FX"
   },
   "outputs": [],
   "source": [
    "%matplotlib inline\n",
    "import matplotlib.pyplot as plt\n",
    "\n",
    "import time\n",
    "import torch\n",
    "from chemicalx.models import DeepDDI\n",
    "from deepddi import DeepDDI_2\n",
    "from chemicalx.data import BatchGenerator, DrugbankDDI\n",
    "import collections.abc\n",
    "import collections.abc\n",
    "import json\n",
    "from dataclasses import dataclass\n",
    "from sklearn.metrics import roc_auc_score, accuracy_score, recall_score, precision_score, f1_score\n",
    "from class_resolver import FunctionResolver\n",
    "from pathlib import Path\n",
    "from typing import List, Mapping, Optional, Sequence, Union\n",
    "import pandas as pd\n",
    "from tabulate import tabulate\n",
    "from tqdm import trange\n",
    "from chemicalx.models import Model\n",
    "from chemicalx.version import __version__"
   ]
  },
  {
   "cell_type": "code",
   "execution_count": 26,
   "metadata": {
    "ExecuteTime": {
     "end_time": "2024-05-06T06:36:36.156564Z",
     "start_time": "2024-05-06T06:36:36.150902Z"
    },
    "executionInfo": {
     "elapsed": 4,
     "status": "ok",
     "timestamp": 1713154134024,
     "user": {
      "displayName": "Andrew Vamos",
      "userId": "04562579817850856492"
     },
     "user_tz": 240
    },
    "id": "yu61Jp1xrnKk"
   },
   "outputs": [],
   "source": [
    "metric_resolver = FunctionResolver([])\n",
    "metric_resolver.register(roc_auc_score, synonyms={\"roc_auc\", \"auc_roc\", \"auroc\"})\n",
    "metric_resolver.register(accuracy_score, synonyms={\"acc\", \"accuracy\"})\n",
    "metric_resolver.register(recall_score, synonyms={\"recall\"})\n",
    "metric_resolver.register(precision_score, synonyms={\"precision\"})\n",
    "metric_resolver.register(f1_score, synonyms={\"f_score\", \"f1\"})\n",
    "\n",
    "@dataclass\n",
    "class Result:\n",
    "    \"\"\"A result package.\"\"\"\n",
    "\n",
    "    model: Model\n",
    "    predictions: pd.DataFrame\n",
    "    losses: List[float]\n",
    "    losses_val: List[float]\n",
    "    train_time: float\n",
    "    evaluation_time: float\n",
    "    metrics: Mapping[str, float]\n",
    "\n",
    "    def summarize(self) -> None:\n",
    "        \"\"\"Print results to the console.\"\"\"\n",
    "        print(tabulate(sorted(self.metrics.items()), headers=[\"Metric\", \"Value\"]))\n",
    "\n",
    "    def save(self, directory: Union[str, Path]) -> None:\n",
    "        \"\"\"Save the results to a directory.\"\"\"\n",
    "        if isinstance(directory, str):\n",
    "            directory = Path(directory)\n",
    "        directory = directory.resolve()\n",
    "        directory.mkdir(exist_ok=True, parents=True)\n",
    "\n",
    "        torch.save(self.model, directory.joinpath(\"model.pkl\"))\n",
    "        directory.joinpath(\"results.json\").write_text(\n",
    "            json.dumps(\n",
    "                {\n",
    "                    \"evaluation\": self.metrics,\n",
    "                    \"losses\": self.losses,\n",
    "                    \"losses_val\": self.losses_val,\n",
    "                    \"training_time\": self.train_time,\n",
    "                    \"evaluation_time\": self.evaluation_time,\n",
    "                    \"chemicalx_version\": __version__,\n",
    "                },\n",
    "                indent=2,\n",
    "            )\n",
    "        )"
   ]
  },
  {
   "cell_type": "markdown",
   "metadata": {},
   "source": [
    "## Data\n",
    "\n",
    "Our project utilizes a comprehensive dataset derived from DrugBank[4], specifically focusing on drug-drug interactions (DDIs). DrugBank[4] is a rich bioinformatics and cheminformatics resource that contains detailed drug data including chemical, pharmacological, and pharmaceutical drug information.\n",
    "\n",
    "### Source of the Data:\n",
    "\n",
    "The data for this study is collected from the DrugBank[4] database, which provides an extensive array of drug interaction data along with descriptive drug properties. This database is widely used in pharmacological research for both academic and industrial purposes. The data used in this project can be accessed through the DrugBank API directly through ChemicalX[2] or by downloading the data directly from[  DrugBank's website](https://www.drugbank.ca/)[4].\n",
    "\n",
    "### Morgan Fingerprints: Understanding Molecular Representation\n",
    "\n",
    "Morgan fingerprints, essential to our analysis, are a type of circular fingerprint used in cheminformatics to transform molecular structures into numerical vectors. They are derived by labeling each atom based on its type and neighboring atoms, iterating this process to capture the local chemical environment up to a defined radius. The outcome is a binary vector where each bit represents the presence or absence of specific substructural features, allowing for efficient comparison and analysis of molecular similarities. This method is utilized in the ChemicalX package to generate 256-dimensional fingerprints using RDKit[5], providing a compact yet robust representation of molecular structures for our predictive models.\n",
    "\n",
    "### Statistics:\n",
    "\n",
    "Initially, it was understood that the ChemicalX package employed structural similarity profiles (SSPs) based on 2,159 features from DrugBank, which were then reduced using PCA for model efficiency. In the original paper, the SSP for a given pair was generated by dividing the number of common chemical fingerprints by the total number of all chemical fingerprints between two drugs being compared. However, further investigation revealed the use of a simpler [256-dimensional Morgan fingerprints for each drug, generated using RDKit 2021.09.03](https://chemicalx.readthedocs.io/en/latest/notes/data_processing.html#drugbank-ddi) [5]. This newer method replaces the extensive SSP approach with a more compact yet effective representation, suitable for neural network processing. Given the lack of details on the specific radius used to generate the Morgan fingerprints within ChemicalX, a 1:1 direct comparison between ChemicalX models and the original paper is not possible. The dataset comprises:\n",
    "\n",
    "-   1,706 drugs total\n",
    "\n",
    "-   86 possible drug-drug interaction types (termed contexts)\n",
    "\n",
    "-   256-dimensional Morgan fingerprint features for each drug\n",
    "\n",
    "-   Labeled triples of drug interactions, i.e., triples consisting of [DrugA, DrugB, Context, Label] indicating whether a specific interaction is present for a given pair of drugs.\n",
    "\n",
    "-   Approximately 192,284 DDIs for 191,878 drug pairs across the 86 context types.\n",
    "\n",
    "-   The dataset was equally balanced between positive and negative samples, ensuring robust training and validation.\n",
    "\n",
    "### Data Process:\n",
    "\n",
    "The data process includes several key steps:\n",
    "\n",
    "-   Data is initially loaded using ChemicalX, which organizes drug features, context features, and labeled interaction triples.\n",
    "\n",
    "-   Drug identifiers and contexts are managed using unique identifiers from DrugBank.\n",
    "\n",
    "-   Context features are one-hot encoded, and labels indicate the presence of specific drug-drug interactions.\n",
    "\n",
    "-   The full dataset is then split into training, validation, and test sets, comprising 60%, 20%, and 20% of the data respectively. This distribution ensures comprehensive testing and validation across unseen data.\n",
    "\n",
    "-   Each set is used to create batches of data, which are fed into the model during the training and evaluation phases. These batches include only the drug features to predict interactions, without considering molecular structures beyond the Morgan fingerprints."
   ]
  },
  {
   "cell_type": "code",
   "execution_count": 27,
   "metadata": {
    "ExecuteTime": {
     "end_time": "2024-05-06T06:36:43.184035Z",
     "start_time": "2024-05-06T06:36:39.181292Z"
    },
    "colab": {
     "base_uri": "https://localhost:8080/",
     "height": 0
    },
    "executionInfo": {
     "elapsed": 26343,
     "status": "ok",
     "timestamp": 1713154160363,
     "user": {
      "displayName": "Andrew Vamos",
      "userId": "04562579817850856492"
     },
     "user_tz": 240
    },
    "id": "BZScZNbROw-N",
    "outputId": "0058f00f-79bb-47c1-c981-2fe63c61ec9f"
   },
   "outputs": [
    {
     "name": "stdout",
     "output_type": "stream",
     "text": [
      "Name: DrugbankDDI\n",
      "Contexts: 86\n",
      "Context Feature Size: 86\n",
      "Drugs: 1706\n",
      "Drug Feature Size: 256\n",
      "Triples: 383616\n",
      "\n",
      "train: 230169\n",
      "test: 76723\n",
      "test: 76724\n"
     ]
    }
   ],
   "source": [
    "loader = DrugbankDDI()\n",
    "context_set = loader.get_context_features()\n",
    "drug_set = loader.get_drug_features()\n",
    "triples = loader.get_labeled_triples()\n",
    "loader.summarize()\n",
    "\n",
    "# 60% train, 40% test and validation\n",
    "train, test_val = triples.train_test_split(train_size=0.6)\n",
    "\n",
    "# split the 40% test/validation in half (i.e. 20% test and 20% validation)\n",
    "val, test = test_val.train_test_split(train_size=0.5)\n",
    "\n",
    "print(\"train:\", len(train))\n",
    "print(\"test:\", len(val))\n",
    "print(\"test:\", len(test))\n",
    "\n",
    "batch_size = 256\n",
    "train_generator = BatchGenerator(batch_size=batch_size,\n",
    "                           context_features=False,\n",
    "                           drug_features=True,\n",
    "                           drug_molecules=False,\n",
    "                           context_feature_set=context_set,\n",
    "                           drug_feature_set=drug_set,\n",
    "                           labeled_triples=train)\n",
    "val_generator = BatchGenerator(batch_size=batch_size,\n",
    "                                 context_features=False,\n",
    "                                 drug_features=True,\n",
    "                                 drug_molecules=False,\n",
    "                                 context_feature_set=context_set,\n",
    "                                 drug_feature_set=drug_set,\n",
    "                                 labeled_triples=val)\n",
    "test_generator = BatchGenerator(batch_size=batch_size,\n",
    "                               context_features=False,\n",
    "                               drug_features=True,\n",
    "                               drug_molecules=False,\n",
    "                               context_feature_set=context_set,\n",
    "                               drug_feature_set=drug_set,\n",
    "                               labeled_triples=test)"
   ]
  },
  {
   "cell_type": "code",
   "execution_count": 28,
   "metadata": {
    "ExecuteTime": {
     "end_time": "2024-05-06T06:36:43.520802Z",
     "start_time": "2024-05-06T06:36:43.184720Z"
    },
    "colab": {
     "base_uri": "https://localhost:8080/",
     "height": 542
    },
    "executionInfo": {
     "elapsed": 878,
     "status": "ok",
     "timestamp": 1713154161237,
     "user": {
      "displayName": "Andrew Vamos",
      "userId": "04562579817850856492"
     },
     "user_tz": 240
    },
    "id": "KUL1_lussamp",
    "outputId": "60ef5ed6-36c7-4eaa-867d-caf23204905a"
   },
   "outputs": [
    {
     "data": {
      "application/vnd.plotly.v1+json": {
       "config": {
        "plotlyServerURL": "https://plot.ly"
       },
       "data": [
        {
         "domain": {
          "x": [
           0,
           1
          ],
          "y": [
           0,
           1
          ]
         },
         "hovertemplate": "Split=%{label}<br>Size=%{value}<extra></extra>",
         "labels": [
          "Train",
          "Validation",
          "Test"
         ],
         "legendgroup": "",
         "name": "",
         "showlegend": true,
         "type": "pie",
         "values": [
          230169,
          76723,
          76724
         ]
        }
       ],
       "layout": {
        "legend": {
         "tracegroupgap": 0
        },
        "template": {
         "data": {
          "bar": [
           {
            "error_x": {
             "color": "#2a3f5f"
            },
            "error_y": {
             "color": "#2a3f5f"
            },
            "marker": {
             "line": {
              "color": "#E5ECF6",
              "width": 0.5
             },
             "pattern": {
              "fillmode": "overlay",
              "size": 10,
              "solidity": 0.2
             }
            },
            "type": "bar"
           }
          ],
          "barpolar": [
           {
            "marker": {
             "line": {
              "color": "#E5ECF6",
              "width": 0.5
             },
             "pattern": {
              "fillmode": "overlay",
              "size": 10,
              "solidity": 0.2
             }
            },
            "type": "barpolar"
           }
          ],
          "carpet": [
           {
            "aaxis": {
             "endlinecolor": "#2a3f5f",
             "gridcolor": "white",
             "linecolor": "white",
             "minorgridcolor": "white",
             "startlinecolor": "#2a3f5f"
            },
            "baxis": {
             "endlinecolor": "#2a3f5f",
             "gridcolor": "white",
             "linecolor": "white",
             "minorgridcolor": "white",
             "startlinecolor": "#2a3f5f"
            },
            "type": "carpet"
           }
          ],
          "choropleth": [
           {
            "colorbar": {
             "outlinewidth": 0,
             "ticks": ""
            },
            "type": "choropleth"
           }
          ],
          "contour": [
           {
            "colorbar": {
             "outlinewidth": 0,
             "ticks": ""
            },
            "colorscale": [
             [
              0,
              "#0d0887"
             ],
             [
              0.1111111111111111,
              "#46039f"
             ],
             [
              0.2222222222222222,
              "#7201a8"
             ],
             [
              0.3333333333333333,
              "#9c179e"
             ],
             [
              0.4444444444444444,
              "#bd3786"
             ],
             [
              0.5555555555555556,
              "#d8576b"
             ],
             [
              0.6666666666666666,
              "#ed7953"
             ],
             [
              0.7777777777777778,
              "#fb9f3a"
             ],
             [
              0.8888888888888888,
              "#fdca26"
             ],
             [
              1,
              "#f0f921"
             ]
            ],
            "type": "contour"
           }
          ],
          "contourcarpet": [
           {
            "colorbar": {
             "outlinewidth": 0,
             "ticks": ""
            },
            "type": "contourcarpet"
           }
          ],
          "heatmap": [
           {
            "colorbar": {
             "outlinewidth": 0,
             "ticks": ""
            },
            "colorscale": [
             [
              0,
              "#0d0887"
             ],
             [
              0.1111111111111111,
              "#46039f"
             ],
             [
              0.2222222222222222,
              "#7201a8"
             ],
             [
              0.3333333333333333,
              "#9c179e"
             ],
             [
              0.4444444444444444,
              "#bd3786"
             ],
             [
              0.5555555555555556,
              "#d8576b"
             ],
             [
              0.6666666666666666,
              "#ed7953"
             ],
             [
              0.7777777777777778,
              "#fb9f3a"
             ],
             [
              0.8888888888888888,
              "#fdca26"
             ],
             [
              1,
              "#f0f921"
             ]
            ],
            "type": "heatmap"
           }
          ],
          "heatmapgl": [
           {
            "colorbar": {
             "outlinewidth": 0,
             "ticks": ""
            },
            "colorscale": [
             [
              0,
              "#0d0887"
             ],
             [
              0.1111111111111111,
              "#46039f"
             ],
             [
              0.2222222222222222,
              "#7201a8"
             ],
             [
              0.3333333333333333,
              "#9c179e"
             ],
             [
              0.4444444444444444,
              "#bd3786"
             ],
             [
              0.5555555555555556,
              "#d8576b"
             ],
             [
              0.6666666666666666,
              "#ed7953"
             ],
             [
              0.7777777777777778,
              "#fb9f3a"
             ],
             [
              0.8888888888888888,
              "#fdca26"
             ],
             [
              1,
              "#f0f921"
             ]
            ],
            "type": "heatmapgl"
           }
          ],
          "histogram": [
           {
            "marker": {
             "pattern": {
              "fillmode": "overlay",
              "size": 10,
              "solidity": 0.2
             }
            },
            "type": "histogram"
           }
          ],
          "histogram2d": [
           {
            "colorbar": {
             "outlinewidth": 0,
             "ticks": ""
            },
            "colorscale": [
             [
              0,
              "#0d0887"
             ],
             [
              0.1111111111111111,
              "#46039f"
             ],
             [
              0.2222222222222222,
              "#7201a8"
             ],
             [
              0.3333333333333333,
              "#9c179e"
             ],
             [
              0.4444444444444444,
              "#bd3786"
             ],
             [
              0.5555555555555556,
              "#d8576b"
             ],
             [
              0.6666666666666666,
              "#ed7953"
             ],
             [
              0.7777777777777778,
              "#fb9f3a"
             ],
             [
              0.8888888888888888,
              "#fdca26"
             ],
             [
              1,
              "#f0f921"
             ]
            ],
            "type": "histogram2d"
           }
          ],
          "histogram2dcontour": [
           {
            "colorbar": {
             "outlinewidth": 0,
             "ticks": ""
            },
            "colorscale": [
             [
              0,
              "#0d0887"
             ],
             [
              0.1111111111111111,
              "#46039f"
             ],
             [
              0.2222222222222222,
              "#7201a8"
             ],
             [
              0.3333333333333333,
              "#9c179e"
             ],
             [
              0.4444444444444444,
              "#bd3786"
             ],
             [
              0.5555555555555556,
              "#d8576b"
             ],
             [
              0.6666666666666666,
              "#ed7953"
             ],
             [
              0.7777777777777778,
              "#fb9f3a"
             ],
             [
              0.8888888888888888,
              "#fdca26"
             ],
             [
              1,
              "#f0f921"
             ]
            ],
            "type": "histogram2dcontour"
           }
          ],
          "mesh3d": [
           {
            "colorbar": {
             "outlinewidth": 0,
             "ticks": ""
            },
            "type": "mesh3d"
           }
          ],
          "parcoords": [
           {
            "line": {
             "colorbar": {
              "outlinewidth": 0,
              "ticks": ""
             }
            },
            "type": "parcoords"
           }
          ],
          "pie": [
           {
            "automargin": true,
            "type": "pie"
           }
          ],
          "scatter": [
           {
            "fillpattern": {
             "fillmode": "overlay",
             "size": 10,
             "solidity": 0.2
            },
            "type": "scatter"
           }
          ],
          "scatter3d": [
           {
            "line": {
             "colorbar": {
              "outlinewidth": 0,
              "ticks": ""
             }
            },
            "marker": {
             "colorbar": {
              "outlinewidth": 0,
              "ticks": ""
             }
            },
            "type": "scatter3d"
           }
          ],
          "scattercarpet": [
           {
            "marker": {
             "colorbar": {
              "outlinewidth": 0,
              "ticks": ""
             }
            },
            "type": "scattercarpet"
           }
          ],
          "scattergeo": [
           {
            "marker": {
             "colorbar": {
              "outlinewidth": 0,
              "ticks": ""
             }
            },
            "type": "scattergeo"
           }
          ],
          "scattergl": [
           {
            "marker": {
             "colorbar": {
              "outlinewidth": 0,
              "ticks": ""
             }
            },
            "type": "scattergl"
           }
          ],
          "scattermapbox": [
           {
            "marker": {
             "colorbar": {
              "outlinewidth": 0,
              "ticks": ""
             }
            },
            "type": "scattermapbox"
           }
          ],
          "scatterpolar": [
           {
            "marker": {
             "colorbar": {
              "outlinewidth": 0,
              "ticks": ""
             }
            },
            "type": "scatterpolar"
           }
          ],
          "scatterpolargl": [
           {
            "marker": {
             "colorbar": {
              "outlinewidth": 0,
              "ticks": ""
             }
            },
            "type": "scatterpolargl"
           }
          ],
          "scatterternary": [
           {
            "marker": {
             "colorbar": {
              "outlinewidth": 0,
              "ticks": ""
             }
            },
            "type": "scatterternary"
           }
          ],
          "surface": [
           {
            "colorbar": {
             "outlinewidth": 0,
             "ticks": ""
            },
            "colorscale": [
             [
              0,
              "#0d0887"
             ],
             [
              0.1111111111111111,
              "#46039f"
             ],
             [
              0.2222222222222222,
              "#7201a8"
             ],
             [
              0.3333333333333333,
              "#9c179e"
             ],
             [
              0.4444444444444444,
              "#bd3786"
             ],
             [
              0.5555555555555556,
              "#d8576b"
             ],
             [
              0.6666666666666666,
              "#ed7953"
             ],
             [
              0.7777777777777778,
              "#fb9f3a"
             ],
             [
              0.8888888888888888,
              "#fdca26"
             ],
             [
              1,
              "#f0f921"
             ]
            ],
            "type": "surface"
           }
          ],
          "table": [
           {
            "cells": {
             "fill": {
              "color": "#EBF0F8"
             },
             "line": {
              "color": "white"
             }
            },
            "header": {
             "fill": {
              "color": "#C8D4E3"
             },
             "line": {
              "color": "white"
             }
            },
            "type": "table"
           }
          ]
         },
         "layout": {
          "annotationdefaults": {
           "arrowcolor": "#2a3f5f",
           "arrowhead": 0,
           "arrowwidth": 1
          },
          "autotypenumbers": "strict",
          "coloraxis": {
           "colorbar": {
            "outlinewidth": 0,
            "ticks": ""
           }
          },
          "colorscale": {
           "diverging": [
            [
             0,
             "#8e0152"
            ],
            [
             0.1,
             "#c51b7d"
            ],
            [
             0.2,
             "#de77ae"
            ],
            [
             0.3,
             "#f1b6da"
            ],
            [
             0.4,
             "#fde0ef"
            ],
            [
             0.5,
             "#f7f7f7"
            ],
            [
             0.6,
             "#e6f5d0"
            ],
            [
             0.7,
             "#b8e186"
            ],
            [
             0.8,
             "#7fbc41"
            ],
            [
             0.9,
             "#4d9221"
            ],
            [
             1,
             "#276419"
            ]
           ],
           "sequential": [
            [
             0,
             "#0d0887"
            ],
            [
             0.1111111111111111,
             "#46039f"
            ],
            [
             0.2222222222222222,
             "#7201a8"
            ],
            [
             0.3333333333333333,
             "#9c179e"
            ],
            [
             0.4444444444444444,
             "#bd3786"
            ],
            [
             0.5555555555555556,
             "#d8576b"
            ],
            [
             0.6666666666666666,
             "#ed7953"
            ],
            [
             0.7777777777777778,
             "#fb9f3a"
            ],
            [
             0.8888888888888888,
             "#fdca26"
            ],
            [
             1,
             "#f0f921"
            ]
           ],
           "sequentialminus": [
            [
             0,
             "#0d0887"
            ],
            [
             0.1111111111111111,
             "#46039f"
            ],
            [
             0.2222222222222222,
             "#7201a8"
            ],
            [
             0.3333333333333333,
             "#9c179e"
            ],
            [
             0.4444444444444444,
             "#bd3786"
            ],
            [
             0.5555555555555556,
             "#d8576b"
            ],
            [
             0.6666666666666666,
             "#ed7953"
            ],
            [
             0.7777777777777778,
             "#fb9f3a"
            ],
            [
             0.8888888888888888,
             "#fdca26"
            ],
            [
             1,
             "#f0f921"
            ]
           ]
          },
          "colorway": [
           "#636efa",
           "#EF553B",
           "#00cc96",
           "#ab63fa",
           "#FFA15A",
           "#19d3f3",
           "#FF6692",
           "#B6E880",
           "#FF97FF",
           "#FECB52"
          ],
          "font": {
           "color": "#2a3f5f"
          },
          "geo": {
           "bgcolor": "white",
           "lakecolor": "white",
           "landcolor": "#E5ECF6",
           "showlakes": true,
           "showland": true,
           "subunitcolor": "white"
          },
          "hoverlabel": {
           "align": "left"
          },
          "hovermode": "closest",
          "mapbox": {
           "style": "light"
          },
          "paper_bgcolor": "white",
          "plot_bgcolor": "#E5ECF6",
          "polar": {
           "angularaxis": {
            "gridcolor": "white",
            "linecolor": "white",
            "ticks": ""
           },
           "bgcolor": "#E5ECF6",
           "radialaxis": {
            "gridcolor": "white",
            "linecolor": "white",
            "ticks": ""
           }
          },
          "scene": {
           "xaxis": {
            "backgroundcolor": "#E5ECF6",
            "gridcolor": "white",
            "gridwidth": 2,
            "linecolor": "white",
            "showbackground": true,
            "ticks": "",
            "zerolinecolor": "white"
           },
           "yaxis": {
            "backgroundcolor": "#E5ECF6",
            "gridcolor": "white",
            "gridwidth": 2,
            "linecolor": "white",
            "showbackground": true,
            "ticks": "",
            "zerolinecolor": "white"
           },
           "zaxis": {
            "backgroundcolor": "#E5ECF6",
            "gridcolor": "white",
            "gridwidth": 2,
            "linecolor": "white",
            "showbackground": true,
            "ticks": "",
            "zerolinecolor": "white"
           }
          },
          "shapedefaults": {
           "line": {
            "color": "#2a3f5f"
           }
          },
          "ternary": {
           "aaxis": {
            "gridcolor": "white",
            "linecolor": "white",
            "ticks": ""
           },
           "baxis": {
            "gridcolor": "white",
            "linecolor": "white",
            "ticks": ""
           },
           "bgcolor": "#E5ECF6",
           "caxis": {
            "gridcolor": "white",
            "linecolor": "white",
            "ticks": ""
           }
          },
          "title": {
           "x": 0.05
          },
          "xaxis": {
           "automargin": true,
           "gridcolor": "white",
           "linecolor": "white",
           "ticks": "",
           "title": {
            "standoff": 15
           },
           "zerolinecolor": "white",
           "zerolinewidth": 2
          },
          "yaxis": {
           "automargin": true,
           "gridcolor": "white",
           "linecolor": "white",
           "ticks": "",
           "title": {
            "standoff": 15
           },
           "zerolinecolor": "white",
           "zerolinewidth": 2
          }
         }
        },
        "title": {
         "text": "Data Distribution"
        }
       }
      }
     },
     "metadata": {},
     "output_type": "display_data"
    }
   ],
   "source": [
    "import plotly.express as px\n",
    "\n",
    "# Data for plotting\n",
    "labels = ['Train', 'Validation', 'Test']\n",
    "sizes = [len(train), len(val), len(test)]\n",
    "df = pd.DataFrame({'Split': labels, 'Size': sizes})\n",
    "\n",
    "fig = px.pie(df, values='Size', names='Split', title='Data Distribution')\n",
    "fig.show()"
   ]
  },
  {
   "cell_type": "markdown",
   "metadata": {
    "id": "3muyDPFPbozY"
   },
   "source": [
    "##   Model\n",
    "Our project utilizes a deep learning architecture designed specifically for predicting drug-drug interactions (DDIs) from drug features as proposed in Ryu et al <sup>[1]</sup>. The original code for this paper can be found at https://bitbucket.org/kaistsystemsbiology/deepddi/src/master/. However, since this code is written in Python 2, we opted to use the ChemicalX library for this project. The input feature for this model are the Morgan chemical fingerprint’s detailed above. The model's architecture and training processes are detailed below:\n",
    "\n",
    "### Model Architecture:\n",
    "\n",
    "* Layer Configuration: The model is composed of several hidden layers. The number of hidden layers is set dynamically, with experiments run using 8 layers. Each layer utilizes fully connected (dense) neural layers. While the original paper trained layer depths from 1 to 9, we only train 8 layer networks here since this was what the paper found to be the most accurate. \n",
    "* Channels and Nodes: The input drug features are processed through drug_channels, which is determined by the data loader. The number of hidden nodes per layer is variable, tested with 128, 256, 512, 1024, and 2048 node layers.\n",
    "* Output: The model outputs a single value per drug pair, representing the probability of interaction, which is then thresholded to classify interactions.\n",
    "* Activation Function: The architecture uses ReLU (Rectified Linear Unit) activation functions throughout the hidden layers to introduce non-linearity, beneficial for learning complex patterns.\n",
    "\n",
    "### Additional Configuration:\n",
    "\n",
    "* Thresholding: Post-prediction, a threshold of 0.47 is applied to convert the probabilistic outputs into binary interaction prediction as this was the optimal threshold as determined by the original authors for this multiclass problem. \n",
    "\n",
    "### Code Implementation:\n",
    "The model is encapsulated within a training function that handles the full lifecycle of training and validation. This function initializes the model, sets up the loss criterion and optimizer, and performs epoch-wise training with backpropagation. Post-training, the model is evaluated on a validation set, and metrics such as ROC-AUC, accuracy, recall, precision, and F1 score are calculated to assess performance.\n",
    "\n",
    "### Pretrained Model:\n",
    "Two pretrained models with 128 and 2048 nodes each have been loaded and their architecture is demonstrated within this notebook. Additionally, the updated model architecture featuring layer normalization and dropout during training is loaded and demonstrated below. "
   ]
  },
  {
   "cell_type": "code",
   "execution_count": 29,
   "metadata": {
    "ExecuteTime": {
     "end_time": "2024-05-06T06:36:50.150675Z",
     "start_time": "2024-05-06T06:36:50.147549Z"
    },
    "executionInfo": {
     "elapsed": 7,
     "status": "ok",
     "timestamp": 1713154161238,
     "user": {
      "displayName": "Andrew Vamos",
      "userId": "04562579817850856492"
     },
     "user_tz": 240
    },
    "id": "gBdVZoTvsSFV"
   },
   "outputs": [],
   "source": [
    "def train_fnc(\n",
    "        ddi=DeepDDI,\n",
    "        _drug_channels=256,\n",
    "        _hidden_channels=2048,\n",
    "        _hidden_layers_num=8,\n",
    "        _out_channels=1,\n",
    "        _lr=0.0001,\n",
    "        _epochs=100,\n",
    "        _threshold=0.47,\n",
    "        metrics: Optional[Sequence[str]] = None):\n",
    "\n",
    "    ddi_model = ddi(\n",
    "        drug_channels=_drug_channels,\n",
    "        hidden_channels=_hidden_channels,\n",
    "        hidden_layers_num=_hidden_layers_num,\n",
    "        out_channels=_out_channels\n",
    "    )\n",
    "\n",
    "    optimizer = torch.optim.Adam(ddi_model.parameters(), lr=_lr)\n",
    "    ddi_model.train()\n",
    "    criterion = torch.nn.BCELoss()\n",
    "    losses = []\n",
    "    losses_val = []\n",
    "    train_start_time = time.time()\n",
    "\n",
    "    for epoch in trange(_epochs):\n",
    "        for training_batch in train_generator:\n",
    "            optimizer.zero_grad()\n",
    "            training_prediction = ddi_model(training_batch.drug_features_left, training_batch.drug_features_right)\n",
    "            loss = criterion(training_prediction, training_batch.labels)\n",
    "            losses.append(loss.item())\n",
    "            loss.backward()\n",
    "            optimizer.step()\n",
    "        # print(f\"Epoch {epoch}: epoch_loss={np.mean(losses)}\")\n",
    "\n",
    "    train_time = time.time() - train_start_time\n",
    "\n",
    "    ddi_model.eval()\n",
    "    predictions = []\n",
    "    evaluation_start_time = time.time()\n",
    "\n",
    "    for val_batch in val_generator:\n",
    "        prediction = ddi_model(val_batch.drug_features_left, val_batch.drug_features_right)\n",
    "        loss = criterion(prediction, val_batch.labels)\n",
    "        losses_val.append(loss.item())\n",
    "        if isinstance(prediction, collections.abc.Sequence):\n",
    "            prediction = prediction[0]\n",
    "        prediction = prediction.detach().cpu().numpy()\n",
    "        identifiers = val_batch.identifiers\n",
    "        prediction[prediction >= _threshold] = 1\n",
    "        prediction[prediction < _threshold] = 0\n",
    "        identifiers[\"prediction\"] = prediction\n",
    "        predictions.append(identifiers)\n",
    "\n",
    "    evaluation_time = time.time() - evaluation_start_time\n",
    "    predictions_df = pd.concat(predictions)\n",
    "\n",
    "    if metrics is None:\n",
    "        metric_dict = {\"roc_auc\": roc_auc_score}\n",
    "    else:\n",
    "        metric_dict = {name: metric_resolver.lookup(name) for name in metrics}\n",
    "\n",
    "    return Result(\n",
    "        model=ddi_model,\n",
    "        predictions=predictions_df,\n",
    "        losses=losses,\n",
    "        losses_val=losses_val,\n",
    "        train_time=train_time,\n",
    "        evaluation_time=evaluation_time,\n",
    "        metrics={\n",
    "            name: func(predictions_df[\"label\"], predictions_df[\"prediction\"]) for name, func in metric_dict.items()\n",
    "        },\n",
    "    )"
   ]
  },
  {
   "cell_type": "markdown",
   "metadata": {},
   "source": [
    "## Training Objectives:\n",
    "\n",
    "* Loss Function: The model uses the Binary Cross-Entropy Loss (BCELoss), a common choice for binary classification tasks. Loss values per  Epoch are then demonstrated in the results below. \n",
    "* Optimizer: Adam optimizer is employed for its efficiency in handling sparse gradients and adaptive learning rate capabilities.\n",
    "* Learning Rate and Epochs: The learning rate is set at 0.0001 with experiments conducted over 100 epochs.\n",
    "* Batch size was set to 256\n",
    "* Computational requirements: Since this model was originally developed in 2018, the  requirements for this are not as demanding as some of the more recent models covered in this course. One machine used to train possessed an 8 core, 2.9 GHz AMD Ryzen 7 4800H CPU, and average seconds per iteration (s/it) ranged from 14.93 s/it on the smallest 8 layer 128 node model to 820.43 s/it on the largest 2048 node model. Training a set of models with varied nodes of 128, 256, 512, 1024, and 2048 and all other parameters required 28.7 hours of runtime on this Ryzen 7 4800H CPU."
   ]
  },
  {
   "cell_type": "markdown",
   "metadata": {
    "id": "PW_lTDZVjP0A"
   },
   "source": [
    "### Training a Simplified Model for Demonstration\n",
    "\n",
    "To demonstrate the training process and model architecture interactively within this notebook, we will train a simplified version of our deep learning model. This streamlined model will utilize fewer resources, making it feasible to train interactively without extensive computational demands.\n",
    "\n",
    "The simplified model will have the following adjustments for efficient demonstration:\n",
    "\n",
    "* Node Configuration: Each layer will consist of only 128 nodes, reducing the complexity of the model.\n",
    "* Epochs: The training will be conducted over only one epoch to provide a quick insight into the model's learning behavior without waiting for extended periods.\n",
    "\n",
    "This approach is intended to give a practical overview of the model's functionality and training dynamics while not replacing the need for full-scale training performed outside this notebook. The code below initializes and trains this model, and briefly evaluates its performance:"
   ]
  },
  {
   "cell_type": "markdown",
   "metadata": {
    "collapsed": false
   },
   "source": [
    "#### Training Simplified Model with Original Implementation\n",
    "Original implementation uses `Linear >> ReLU >> BatchNorm >> ReLU` in each of the 8 hidden layers. "
   ]
  },
  {
   "cell_type": "code",
   "execution_count": 64,
   "metadata": {
    "ExecuteTime": {
     "end_time": "2024-05-06T06:43:52.461033Z",
     "start_time": "2024-05-06T06:43:42.186487Z"
    },
    "collapsed": false
   },
   "outputs": [
    {
     "name": "stdout",
     "output_type": "stream",
     "text": [
      "\n",
      "Training with 8 layers and 128 nodes:\n"
     ]
    },
    {
     "name": "stderr",
     "output_type": "stream",
     "text": [
      "100%|██████████| 2/2 [00:35<00:00, 17.54s/it]\n"
     ]
    },
    {
     "name": "stdout",
     "output_type": "stream",
     "text": [
      "Metric        Value\n",
      "---------  --------\n",
      "acc        0.596145\n",
      "f1         0.691369\n",
      "precision  0.558713\n",
      "recall     0.906633\n",
      "roc_auc    0.596811\n",
      "time taken: 37.43191170692444\n"
     ]
    }
   ],
   "source": [
    "metrics=[\"roc_auc\", \"acc\", \"recall\", \"precision\", \"f1\"]\n",
    "drug_channels = loader.drug_channels\n",
    "hidden_nodes = [128]  # -->[128, 256, 512, 1024, 2048] <-- versions we pretrained which will be loaded below\n",
    "hidden_layers = 8\n",
    "epochs = 2 # 100 epochs used in the original paper and our pretrained versions\n",
    "lr=0.0001\n",
    "\n",
    "start = time.time()\n",
    "for node in hidden_nodes:\n",
    "    print(f\"\\nTraining with {hidden_layers} layers and {node} nodes:\")\n",
    "    result = train_fnc(\n",
    "                        ddi=DeepDDI,\n",
    "                        _drug_channels=drug_channels,\n",
    "                        _hidden_channels=node,\n",
    "                        _hidden_layers_num=hidden_layers,\n",
    "                        _out_channels=1,\n",
    "                        _lr=lr,\n",
    "                        _epochs=epochs,\n",
    "                        metrics=metrics)\n",
    "    result.summarize()\n",
    "    # result_dir = f\"./results_org_model/results_{node}_node/\"\n",
    "    # result.save(result_dir)\n",
    "\n",
    "time_taken = time.time() - start\n",
    "print(\"time taken:\", time_taken)\n"
   ]
  },
  {
   "cell_type": "markdown",
   "metadata": {
    "collapsed": false
   },
   "source": [
    "#### Training Simplified Model with Updated Implementation\n",
    "In the updated implementation we use `Linear >> ReLU >> LayerNorm >> ReLU >> Dropout` in each of the 8 hidden layers. \n"
   ]
  },
  {
   "cell_type": "code",
   "execution_count": 63,
   "metadata": {
    "ExecuteTime": {
     "end_time": "2024-05-06T06:45:10.842955Z",
     "start_time": "2024-05-06T06:45:02.642709Z"
    },
    "collapsed": false
   },
   "outputs": [
    {
     "name": "stdout",
     "output_type": "stream",
     "text": [
      "\n",
      "Training with 8 layers and 128 nodes:\n"
     ]
    },
    {
     "name": "stderr",
     "output_type": "stream",
     "text": [
      "100%|██████████| 2/2 [00:40<00:00, 20.33s/it]\n"
     ]
    },
    {
     "name": "stdout",
     "output_type": "stream",
     "text": [
      "Metric        Value\n",
      "---------  --------\n",
      "acc        0.693716\n",
      "f1         0.720752\n",
      "precision  0.6611\n",
      "recall     0.792236\n",
      "roc_auc    0.693928\n",
      "time taken: 43.10127592086792\n",
      "\n",
      "\n",
      "\n",
      "\n"
     ]
    }
   ],
   "source": [
    "metrics=[\"roc_auc\", \"acc\", \"recall\", \"precision\", \"f1\"]\n",
    "drug_channels = loader.drug_channels\n",
    "hidden_nodes = [128]  # -->[128, 256, 512, 1024, 2048] <-- versions we pretrained which will be loaded below\n",
    "hidden_layers = 8\n",
    "epochs = 2 # 100 epochs used in the original paper and our pretrained versions\n",
    "lr=0.0001\n",
    "\n",
    "start = time.time()\n",
    "for node in hidden_nodes:\n",
    "    print(f\"\\nTraining with {hidden_layers} layers and {node} nodes:\")\n",
    "    result = train_fnc(\n",
    "                        ddi=DeepDDI_2,\n",
    "                        _drug_channels=drug_channels,\n",
    "                        _hidden_channels=node,\n",
    "                        _hidden_layers_num=hidden_layers,\n",
    "                        _out_channels=1,\n",
    "                        _lr=lr,\n",
    "                        _epochs=epochs,\n",
    "                        metrics=metrics)\n",
    "    result.summarize()\n",
    "    # result_dir = f\"./results_upd_model/results_{node}_node/\"\n",
    "    # result.save(result_dir)\n",
    "\n",
    "time_taken = time.time() - start\n",
    "print(\"time taken:\", time_taken)\n",
    "print(\"\\n\")\n",
    "print(\"\\n\")\n"
   ]
  },
  {
   "cell_type": "markdown",
   "metadata": {
    "id": "FDcgcJsJhWuo"
   },
   "source": [
    "### Model Loading and Evaluation\n",
    "\n",
    "Due to the computational intensity and time constraints associated with training our deep learning model for predicting drug-drug interactions, we have pre-trained the model outside of this notebook. This approach allows us to utilize more powerful computational resources and ensure the model is thoroughly trained without the limitations of this interactive environment.\n",
    "\n",
    "Below, we provide the code to load the pre-trained model and the saved results of its performance on a set of test data using the test, validation, and train scheme above. Note that these validation metrics were generated at runtime of the original training of the model since we did not save the data folds as selected by the dataloader for this demonstration on Colab.\n",
    "\n",
    "Strategically subsetting data into train, validation, and test folds is crucial for demonstrating the model’s effectiveness and ensuring that it generalizes well to new, unseen data.\n"
   ]
  },
  {
   "cell_type": "code",
   "execution_count": 32,
   "metadata": {
    "ExecuteTime": {
     "end_time": "2024-05-06T06:51:24.628156Z",
     "start_time": "2024-05-06T06:50:53.568723Z"
    },
    "colab": {
     "base_uri": "https://localhost:8080/",
     "height": 0
    },
    "executionInfo": {
     "elapsed": 9547,
     "status": "ok",
     "timestamp": 1713154230714,
     "user": {
      "displayName": "Andrew Vamos",
      "userId": "04562579817850856492"
     },
     "user_tz": 240
    },
    "id": "liF9WZFhiCTO",
    "outputId": "0bec379a-4e08-4446-f3eb-57baec472acb"
   },
   "outputs": [
    {
     "name": "stderr",
     "output_type": "stream",
     "text": [
      "Downloading...\n",
      "From: https://drive.google.com/uc?id=1jaUIeFHAlJz7hy4IW52AX181M-v6w9BC\n",
      "To: c:\\Users\\Andre\\Documents\\UIUC_MCS\\2024_Spring_CS598DL4H\\Project\\final_repo\\final-project-deepddi\\model_128.pkl\n",
      "100%|██████████| 764k/764k [00:01<00:00, 694kB/s]\n",
      "Downloading...\n",
      "From: https://drive.google.com/uc?id=1iimUVpVFPqD-8uA5ZUkDf2DP-zLMrpdv\n",
      "To: c:\\Users\\Andre\\Documents\\UIUC_MCS\\2024_Spring_CS598DL4H\\Project\\final_repo\\final-project-deepddi\\model_256.pkl\n",
      "100%|██████████| 2.42M/2.42M [00:03<00:00, 759kB/s]\n",
      "Downloading...\n",
      "From: https://drive.google.com/uc?id=1FIrBHUGDbxO9_yKyBfczvCaRiV94CvYy\n",
      "To: c:\\Users\\Andre\\Documents\\UIUC_MCS\\2024_Spring_CS598DL4H\\Project\\final_repo\\final-project-deepddi\\model_512.pkl\n",
      "100%|██████████| 8.49M/8.49M [00:11<00:00, 719kB/s]\n",
      "Downloading...\n",
      "From (original): https://drive.google.com/uc?id=1NTVAWkf4c-bBlUMNGM0bsWQ1PhiCKlFp\n",
      "From (redirected): https://drive.google.com/uc?id=1NTVAWkf4c-bBlUMNGM0bsWQ1PhiCKlFp&confirm=t&uuid=5c8eac08-0272-4ad7-999c-ca25d5d2b255\n",
      "To: c:\\Users\\Andre\\Documents\\UIUC_MCS\\2024_Spring_CS598DL4H\\Project\\final_repo\\final-project-deepddi\\model_1024.pkl\n",
      "100%|██████████| 31.6M/31.6M [00:46<00:00, 681kB/s]\n",
      "Downloading...\n",
      "From (original): https://drive.google.com/uc?id=1gYKl1rz_YfH_NY7lmjVecF7hoqkd7zlF\n",
      "From (redirected): https://drive.google.com/uc?id=1gYKl1rz_YfH_NY7lmjVecF7hoqkd7zlF&confirm=t&uuid=a8545799-3b88-4b3d-a4b1-882618e0953a\n",
      "To: c:\\Users\\Andre\\Documents\\UIUC_MCS\\2024_Spring_CS598DL4H\\Project\\final_repo\\final-project-deepddi\\model_2048.pkl\n",
      "100%|██████████| 122M/122M [02:52<00:00, 709kB/s] \n",
      "Downloading...\n",
      "From: https://drive.google.com/uc?id=1Ko1aaYxFaOL7LKRJ9O0Q6H9MJH4RRCLd\n",
      "To: c:\\Users\\Andre\\Documents\\UIUC_MCS\\2024_Spring_CS598DL4H\\Project\\final_repo\\final-project-deepddi\\model_128.pkl\n",
      "100%|██████████| 749k/749k [00:01<00:00, 705kB/s]\n",
      "Downloading...\n",
      "From: https://drive.google.com/uc?id=12Gd96DfX_oMqYZfSz3Ru-8XPBjXQUuUt\n",
      "To: c:\\Users\\Andre\\Documents\\UIUC_MCS\\2024_Spring_CS598DL4H\\Project\\final_repo\\final-project-deepddi\\model_256.pkl\n",
      "100%|██████████| 2.40M/2.40M [00:03<00:00, 774kB/s]\n",
      "Downloading...\n",
      "From: https://drive.google.com/uc?id=1fCdZA16puQmD7XPcZ9QZi_bj_3KkMejD\n",
      "To: c:\\Users\\Andre\\Documents\\UIUC_MCS\\2024_Spring_CS598DL4H\\Project\\final_repo\\final-project-deepddi\\model_512.pkl\n",
      "100%|██████████| 8.46M/8.46M [00:10<00:00, 782kB/s]\n",
      "Downloading...\n",
      "From (original): https://drive.google.com/uc?id=1F7K56z4LFxjJKrWf4HdwxIYt10e10T6Y\n",
      "From (redirected): https://drive.google.com/uc?id=1F7K56z4LFxjJKrWf4HdwxIYt10e10T6Y&confirm=t&uuid=da566860-280a-4871-aee5-2af745e8f70d\n",
      "To: c:\\Users\\Andre\\Documents\\UIUC_MCS\\2024_Spring_CS598DL4H\\Project\\final_repo\\final-project-deepddi\\model_1024.pkl\n",
      "100%|██████████| 31.6M/31.6M [00:41<00:00, 764kB/s]\n",
      "Downloading...\n",
      "From (original): https://drive.google.com/uc?id=1-jAOcMJ_GGzAsddr_XYAvPEBJUDLYbvZ\n",
      "From (redirected): https://drive.google.com/uc?id=1-jAOcMJ_GGzAsddr_XYAvPEBJUDLYbvZ&confirm=t&uuid=544c9714-a656-4bf9-a8f7-f5b41b6d7e69\n",
      "To: c:\\Users\\Andre\\Documents\\UIUC_MCS\\2024_Spring_CS598DL4H\\Project\\final_repo\\final-project-deepddi\\model_2048.pkl\n",
      "100%|██████████| 122M/122M [02:30<00:00, 810kB/s] \n"
     ]
    }
   ],
   "source": [
    "# LOAD PRETRAINED MODELS\n",
    "\n",
    "import gdown\n",
    "\n",
    "node_list = [128, 256, 512, 1024, 2048]\n",
    "org_file_id = {\"128\": \"1jaUIeFHAlJz7hy4IW52AX181M-v6w9BC\",\n",
    "               \"256\": \"1iimUVpVFPqD-8uA5ZUkDf2DP-zLMrpdv\",\n",
    "               \"512\": \"1FIrBHUGDbxO9_yKyBfczvCaRiV94CvYy\",\n",
    "               \"1024\":\"1NTVAWkf4c-bBlUMNGM0bsWQ1PhiCKlFp\",\n",
    "               \"2048\":\"1gYKl1rz_YfH_NY7lmjVecF7hoqkd7zlF\"}\n",
    "\n",
    "upd_file_id = {\"128\": \"1Ko1aaYxFaOL7LKRJ9O0Q6H9MJH4RRCLd\",\n",
    "               \"256\": \"12Gd96DfX_oMqYZfSz3Ru-8XPBjXQUuUt\",\n",
    "               \"512\": \"1fCdZA16puQmD7XPcZ9QZi_bj_3KkMejD\",\n",
    "               \"1024\":\"1F7K56z4LFxjJKrWf4HdwxIYt10e10T6Y\",\n",
    "               \"2048\":\"1-jAOcMJ_GGzAsddr_XYAvPEBJUDLYbvZ\"}\n",
    "\n",
    "\n",
    "def load_model( file_id, nodes, arch=\"org_\"):\n",
    "  \"\"\"Accepts a file ID and node count to load in a DeepDDI model from gdrive\"\"\"\n",
    "\n",
    "  url = f\"https://drive.google.com/uc?id={file_id}\"\n",
    "  output = f\"model_{nodes}.pkl\"\n",
    "  gdown.download(url, output, quiet=False)\n",
    "  my_model = torch.load(output)\n",
    "  my_model.eval()\n",
    "  return my_model\n",
    "\n",
    "#loading in the torch.save pkl file\n",
    "trained_models_org = [load_model(org_file_id[str(node)], node, arch=\"org_\") for node in node_list]\n",
    "trained_models_upd = [load_model(upd_file_id[str(node)], node, arch=\"upd_\") for node in node_list]"
   ]
  },
  {
   "cell_type": "markdown",
   "metadata": {
    "id": "_ZPoLZbo2WJ7"
   },
   "source": [
    "### 128 Node Original Model Architecture"
   ]
  },
  {
   "cell_type": "code",
   "execution_count": 33,
   "metadata": {
    "ExecuteTime": {
     "end_time": "2024-05-06T06:51:55.773181Z",
     "start_time": "2024-05-06T06:51:55.517326Z"
    },
    "colab": {
     "base_uri": "https://localhost:8080/",
     "height": 0
    },
    "executionInfo": {
     "elapsed": 16,
     "status": "ok",
     "timestamp": 1713154230714,
     "user": {
      "displayName": "Andrew Vamos",
      "userId": "04562579817850856492"
     },
     "user_tz": 240
    },
    "id": "pXzRp_oJ2M5M",
    "outputId": "71f9fabc-737c-4e96-e827-1ffd57247850"
   },
   "outputs": [
    {
     "name": "stdout",
     "output_type": "stream",
     "text": [
      "/n Architecture for 128 node model: /n\n",
      "DeepDDI(\n",
      "  (final): Sequential(\n",
      "    (0): Linear(in_features=512, out_features=128, bias=True)\n",
      "    (1): ReLU()\n",
      "    (2): BatchNorm1d(128, eps=1e-05, momentum=None, affine=True, track_running_stats=True)\n",
      "    (3): ReLU()\n",
      "    (4): Linear(in_features=128, out_features=128, bias=True)\n",
      "    (5): ReLU()\n",
      "    (6): BatchNorm1d(128, eps=1e-05, momentum=None, affine=True, track_running_stats=True)\n",
      "    (7): ReLU()\n",
      "    (8): Linear(in_features=128, out_features=128, bias=True)\n",
      "    (9): ReLU()\n",
      "    (10): BatchNorm1d(128, eps=1e-05, momentum=None, affine=True, track_running_stats=True)\n",
      "    (11): ReLU()\n",
      "    (12): Linear(in_features=128, out_features=128, bias=True)\n",
      "    (13): ReLU()\n",
      "    (14): BatchNorm1d(128, eps=1e-05, momentum=None, affine=True, track_running_stats=True)\n",
      "    (15): ReLU()\n",
      "    (16): Linear(in_features=128, out_features=128, bias=True)\n",
      "    (17): ReLU()\n",
      "    (18): BatchNorm1d(128, eps=1e-05, momentum=None, affine=True, track_running_stats=True)\n",
      "    (19): ReLU()\n",
      "    (20): Linear(in_features=128, out_features=128, bias=True)\n",
      "    (21): ReLU()\n",
      "    (22): BatchNorm1d(128, eps=1e-05, momentum=None, affine=True, track_running_stats=True)\n",
      "    (23): ReLU()\n",
      "    (24): Linear(in_features=128, out_features=128, bias=True)\n",
      "    (25): ReLU()\n",
      "    (26): BatchNorm1d(128, eps=1e-05, momentum=None, affine=True, track_running_stats=True)\n",
      "    (27): ReLU()\n",
      "    (28): Linear(in_features=128, out_features=128, bias=True)\n",
      "    (29): ReLU()\n",
      "    (30): BatchNorm1d(128, eps=1e-05, momentum=None, affine=True, track_running_stats=True)\n",
      "    (31): ReLU()\n",
      "    (32): Linear(in_features=128, out_features=1, bias=True)\n",
      "    (33): Sigmoid()\n",
      "  )\n",
      ")\n"
     ]
    }
   ],
   "source": [
    "#display model architecture for 128\n",
    "print('/n Architecture for 128 node model: /n')\n",
    "print(trained_models_org[0])"
   ]
  },
  {
   "cell_type": "markdown",
   "metadata": {
    "id": "up1IFjlI2fUZ"
   },
   "source": [
    "### 2048 Node Original Model Architecture"
   ]
  },
  {
   "cell_type": "code",
   "execution_count": 34,
   "metadata": {
    "ExecuteTime": {
     "end_time": "2024-05-06T06:52:02.132978Z",
     "start_time": "2024-05-06T06:52:02.074508Z"
    },
    "colab": {
     "base_uri": "https://localhost:8080/",
     "height": 0
    },
    "executionInfo": {
     "elapsed": 13,
     "status": "ok",
     "timestamp": 1713154230714,
     "user": {
      "displayName": "Andrew Vamos",
      "userId": "04562579817850856492"
     },
     "user_tz": 240
    },
    "id": "jM-M1dyB2S4B",
    "outputId": "219e4a82-97d5-47ca-9f20-b3d6d3b18fcb"
   },
   "outputs": [
    {
     "name": "stdout",
     "output_type": "stream",
     "text": [
      "/n Architecture for 2048 node model: /n\n",
      "DeepDDI(\n",
      "  (final): Sequential(\n",
      "    (0): Linear(in_features=512, out_features=2048, bias=True)\n",
      "    (1): ReLU()\n",
      "    (2): BatchNorm1d(2048, eps=1e-05, momentum=None, affine=True, track_running_stats=True)\n",
      "    (3): ReLU()\n",
      "    (4): Linear(in_features=2048, out_features=2048, bias=True)\n",
      "    (5): ReLU()\n",
      "    (6): BatchNorm1d(2048, eps=1e-05, momentum=None, affine=True, track_running_stats=True)\n",
      "    (7): ReLU()\n",
      "    (8): Linear(in_features=2048, out_features=2048, bias=True)\n",
      "    (9): ReLU()\n",
      "    (10): BatchNorm1d(2048, eps=1e-05, momentum=None, affine=True, track_running_stats=True)\n",
      "    (11): ReLU()\n",
      "    (12): Linear(in_features=2048, out_features=2048, bias=True)\n",
      "    (13): ReLU()\n",
      "    (14): BatchNorm1d(2048, eps=1e-05, momentum=None, affine=True, track_running_stats=True)\n",
      "    (15): ReLU()\n",
      "    (16): Linear(in_features=2048, out_features=2048, bias=True)\n",
      "    (17): ReLU()\n",
      "    (18): BatchNorm1d(2048, eps=1e-05, momentum=None, affine=True, track_running_stats=True)\n",
      "    (19): ReLU()\n",
      "    (20): Linear(in_features=2048, out_features=2048, bias=True)\n",
      "    (21): ReLU()\n",
      "    (22): BatchNorm1d(2048, eps=1e-05, momentum=None, affine=True, track_running_stats=True)\n",
      "    (23): ReLU()\n",
      "    (24): Linear(in_features=2048, out_features=2048, bias=True)\n",
      "    (25): ReLU()\n",
      "    (26): BatchNorm1d(2048, eps=1e-05, momentum=None, affine=True, track_running_stats=True)\n",
      "    (27): ReLU()\n",
      "    (28): Linear(in_features=2048, out_features=2048, bias=True)\n",
      "    (29): ReLU()\n",
      "    (30): BatchNorm1d(2048, eps=1e-05, momentum=None, affine=True, track_running_stats=True)\n",
      "    (31): ReLU()\n",
      "    (32): Linear(in_features=2048, out_features=1, bias=True)\n",
      "    (33): Sigmoid()\n",
      "  )\n",
      ")\n"
     ]
    }
   ],
   "source": [
    "#display model architecture for 2048\n",
    "print('/n Architecture for 2048 node model: /n')\n",
    "print(trained_models_org[-1])"
   ]
  },
  {
   "cell_type": "code",
   "execution_count": 44,
   "metadata": {},
   "outputs": [
    {
     "name": "stdout",
     "output_type": "stream",
     "text": [
      "/n Architecture for 2048 node model with layer norm and dropout: /n\n",
      "DeepDDI_2(\n",
      "  (final): Sequential(\n",
      "    (0): Linear(in_features=512, out_features=2048, bias=True)\n",
      "    (1): ReLU()\n",
      "    (2): LayerNorm((2048,), eps=1e-05, elementwise_affine=True)\n",
      "    (3): ReLU()\n",
      "    (4): Linear(in_features=2048, out_features=2048, bias=True)\n",
      "    (5): ReLU()\n",
      "    (6): LayerNorm((2048,), eps=1e-05, elementwise_affine=True)\n",
      "    (7): ReLU()\n",
      "    (8): Linear(in_features=2048, out_features=2048, bias=True)\n",
      "    (9): ReLU()\n",
      "    (10): LayerNorm((2048,), eps=1e-05, elementwise_affine=True)\n",
      "    (11): ReLU()\n",
      "    (12): Linear(in_features=2048, out_features=2048, bias=True)\n",
      "    (13): ReLU()\n",
      "    (14): LayerNorm((2048,), eps=1e-05, elementwise_affine=True)\n",
      "    (15): ReLU()\n",
      "    (16): Linear(in_features=2048, out_features=2048, bias=True)\n",
      "    (17): ReLU()\n",
      "    (18): LayerNorm((2048,), eps=1e-05, elementwise_affine=True)\n",
      "    (19): ReLU()\n",
      "    (20): Linear(in_features=2048, out_features=2048, bias=True)\n",
      "    (21): ReLU()\n",
      "    (22): LayerNorm((2048,), eps=1e-05, elementwise_affine=True)\n",
      "    (23): ReLU()\n",
      "    (24): Linear(in_features=2048, out_features=2048, bias=True)\n",
      "    (25): ReLU()\n",
      "    (26): LayerNorm((2048,), eps=1e-05, elementwise_affine=True)\n",
      "    (27): ReLU()\n",
      "    (28): Linear(in_features=2048, out_features=2048, bias=True)\n",
      "    (29): ReLU()\n",
      "    (30): LayerNorm((2048,), eps=1e-05, elementwise_affine=True)\n",
      "    (31): ReLU()\n",
      "    (32): Linear(in_features=2048, out_features=1, bias=True)\n",
      "    (33): Sigmoid()\n",
      "  )\n",
      ")\n"
     ]
    }
   ],
   "source": [
    "\n",
    "#display model architecture for 2048\n",
    "print('/n Architecture for 2048 node model with layer norm and dropout: /n')\n",
    "print(trained_models_upd[-1])"
   ]
  },
  {
   "cell_type": "markdown",
   "metadata": {
    "ExecuteTime": {
     "end_time": "2024-05-06T06:33:57.591924Z",
     "start_time": "2024-05-06T06:33:57.549154Z"
    },
    "id": "7tUU46wDRsIp"
   },
   "source": [
    "# Results\n",
    "\n",
    "This section offers a detailed analysis of the outcomes from our experimentation with different model architectures, comparing our results to those reported in the original paper and our ablation study findings. Our experiments were conducted using a modified dataset from the ChemicalX package, employing 256-dimensional Morgan fingerprints as opposed to the structural similarity profiles (SSPs) used in the original study.\n",
    "\n",
    "Model Evaluation and Ablation Study\n",
    "-----------------------------------\n",
    "\n",
    "### Original and Updated Model Performance\n",
    "\n",
    "We evaluated both the original and updated model architectures across five different configurations: 128, 256, 512, 1024, and 2048-node setups. The original architecture employed batch normalization, while the updated architecture utilized layer normalization and dropout for enhanced generalization.\n",
    "\n",
    "## Table of Results\n",
    "The following table summarizes the evaluation metrics for both the original and updated models across varying node configurations. It showcases the improvements in model performance due to architectural changes:\n",
    "\n",
    "| Node Count | Model Version | ROC-AUC | Accuracy | Recall | Precision | F1-Score |\n",
    "|------------|---------------|---------|----------|--------|-----------|----------|\n",
    "| **128**    | Original      | 0.7804  | 0.7805   | 0.7242 | 0.8153    | 0.7670   |\n",
    "|            | Updated       | 0.7940  | 0.7940   | 0.8169 | 0.7804    | 0.7983   |\n",
    "|            | **Difference**| +1.36   | +1.35    | +9.27  | -3.49     | +3.13    |\n",
    "| **256**    | Original      | 0.7651  | 0.7653   | 0.6562 | 0.8384    | 0.7362   |\n",
    "|            | Updated       | 0.8077  | 0.8077   | 0.8049 | 0.8089    | 0.8069   |\n",
    "|            | **Difference**| +4.26   | +4.24    | +14.87 | -2.95     | +7.07    |\n",
    "| **512**    | Original      | 0.7944  | 0.7946   | 0.7329 | 0.8352    | 0.7807   |\n",
    "|            | Updated       | 0.8344  | 0.8344   | 0.8590 | 0.8181    | 0.8381   |\n",
    "|            | **Difference**| +4.00   | +3.98    | +12.61 | -1.71     | +5.74    |\n",
    "| **1024**   | Original      | 0.8317  | 0.8317   | 0.8243 | 0.8361    | 0.8301   |\n",
    "|            | Updated       | 0.8476  | 0.8476   | 0.8593 | 0.8391    | 0.8490   |\n",
    "|            | **Difference**| +1.59   | +1.59    | +3.50  | +0.30     | +1.89    |\n",
    "| **2048**   | Original      | 0.8415  | 0.8415   | 0.8655 | 0.8253    | 0.8449   |\n",
    "|            | Updated       | 0.8603  | 0.8603   | 0.8807 | 0.8457    | 0.8628   |\n",
    "|            | **Difference**| +1.88   | +1.88    | +1.52  | +2.04     | +1.79    |\n",
    "\n",
    "### Analysis of Results\n",
    "This table provides a clear view of how each model's performance scales with increased node count and highlights the enhancements due to architectural changes in the updated model. The updated model consistently outperforms the original across all metrics, demonstrating the effectiveness of integrating layer normalization and dropout.\n",
    "\n",
    "### Discussion on Model Updates\n",
    "\n",
    "The introduction of layer normalization and dropout in the updated model's architecture significantly enhanced performance across all metrics, particularly in the more robust 2048-node configuration. These changes suggest that the updated model architecture is better suited for handling the complexities of the DDI prediction task when using Morgan fingerprints as features.\n",
    "\n",
    "Comparison with Original Study\n",
    "------------------------------\n",
    "\n",
    "The original paper reported a mean accuracy ranging from 84.8% to 93.2% across various measures using the SSP/PCA method. In our study, the highest accuracy achieved was 88% with the updated 2048-node model. This discrepancy can be attributed to the different data representations (Morgan fingerprints in our study versus SSP/PCA in the original). Despite this, our updated model demonstrates substantial promise, showcasing robust performance that falls well within the bounds of the original study's reported metrics.\n",
    "\n",
    "Ablation Study: Architectural Changes\n",
    "-------------------------------------\n",
    "\n",
    "The ablation study focused on the impact of architectural modifications rather than changes in input features. The results confirm that architectural tuning, specifically the integration of layer normalization and dropout, can significantly enhance model effectiveness, even when employing a different feature representation than the original study.\n",
    "\n",
    "Summary of Results\n",
    "------------------\n",
    "\n",
    "Our experiments reveal significant potential for enhancing the performance of DNN architectures used in drug-drug interaction predictions. By replacing batch normalization with layer normalization and integrating dropout, we achieved improvements in model accuracy ranging from 1.4% to 4.2%. These results not only underscore the effectiveness of our architectural adjustments but also highlight the opportunities for further optimization in the models used by the original paper and within the ChemicalX package. This demonstrates that even relatively simple changes in model architecture can lead to notable enhancements in performance, suggesting a promising avenue for future research to further refine DNN models for this application."
   ]
  },
  {
   "cell_type": "markdown",
   "metadata": {
    "ExecuteTime": {
     "end_time": "2024-05-06T06:35:45.607466Z",
     "start_time": "2024-05-06T06:35:45.445084Z"
    },
    "id": "tCZ9QT-mlcEf"
   },
   "source": [
    "## Results from the Pre-trained *Updated* Model Evaluation\n",
    "This model was trained with the full configuration on extensive computational resources. We focus on the updated model to present the results.\n"
   ]
  },
  {
   "cell_type": "code",
   "execution_count": 35,
   "metadata": {
    "ExecuteTime": {
     "end_time": "2024-05-06T07:23:07.707878Z",
     "start_time": "2024-05-06T07:23:00.974688Z"
    },
    "colab": {
     "base_uri": "https://localhost:8080/",
     "height": 1236
    },
    "executionInfo": {
     "elapsed": 6867,
     "status": "ok",
     "timestamp": 1713154237569,
     "user": {
      "displayName": "Andrew Vamos",
      "userId": "04562579817850856492"
     },
     "user_tz": 240
    },
    "id": "-jxm-dn2t_IX",
    "outputId": "226b6aea-1e60-4bfd-ffaf-e70176e62795"
   },
   "outputs": [
    {
     "name": "stdout",
     "output_type": "stream",
     "text": [
      "The following metrics were saved from the training of our preloaded models via the training code demonstrated above. \n",
      "\n",
      "Runtime results for model_128 ...\n",
      "Runtime results for model_256 ...\n",
      "Runtime results for model_512 ...\n",
      "Runtime results for model_1024 ...\n",
      "Runtime results for model_2048 ...\n",
      "\n"
     ]
    }
   ],
   "source": [
    "#results stored on the google drive of Team 8\n",
    "results_id = {\"128\":  \"1pyK6eEcy_oyKunHugSoT9FsCoD4zDcF4\",\n",
    "               \"256\": \"1I2i_cU0Sokc1FPHa9kZRcFCu1RAH_yVZ\",\n",
    "               \"512\": \"1GBYlrN4SJGUN3oaPKaaK8zhVDlnf9gPO\",\n",
    "               \"1024\":\"1qyeCyjKLb2BUNo6hxI8c1B3-ZmCXhnmm\",\n",
    "               \"2048\":\"1qTDpJFZFxJRdNgynhPBNs2ZcYAjwpDSF\"}\n",
    "\n",
    "\n",
    "def load_results(file_id, nodes):\n",
    "    \"\"\"Accepts a result file ID and node count to load in a DeepDDI model from gdrive\"\"\"\n",
    "    url = f\"https://drive.google.com/uc?id={file_id}\"\n",
    "    output = f\"model_{nodes}.json\"\n",
    "    gdown.download(url, output, quiet=True)\n",
    "    with open(output, 'r') as model_results:\n",
    "        results_json = json.load(model_results)\n",
    "    return results_json\n",
    "\n",
    "\n",
    "roc_auc = []\n",
    "acc = []\n",
    "recall = []\n",
    "precision = []\n",
    "f1 = []\n",
    "training_time = []\n",
    "evaluation_time = []\n",
    "nodes = []\n",
    "all_losses = []\n",
    "losses_tr = []\n",
    "\n",
    "%matplotlib inline\n",
    "print(\"The following metrics were saved from the training of our preloaded models via the training code demonstrated above. \\n\")\n",
    "for node, file_id in results_id.items():\n",
    "    results_json = load_results(file_id, node)\n",
    "\n",
    "    nodes.append(int(node))\n",
    "\n",
    "    print(f\"Runtime results for model_{node} ...\")\n",
    "    # print(f\"ROC AUC: {results_json['evaluation']['roc_auc']}\")\n",
    "    # print(f\"Accuracy: {results_json['evaluation']['acc']}\")\n",
    "    # print(f\"Recall: {results_json['evaluation']['recall']}\")\n",
    "    # print(f\"Precision: {results_json['evaluation']['precision']}\")\n",
    "    # print(f\"F1 Score: {results_json['evaluation']['f1']}\")\n",
    "    # print(f\"Training Time (s): {float(results_json['training_time'])}\")\n",
    "    # print(f\"losses: {results_json['losses'][:3]} ... {results_json['losses'][-3:]}\")\n",
    "\n",
    "    roc_auc.append(results_json['evaluation']['roc_auc'])\n",
    "    acc.append(results_json['evaluation']['acc'])\n",
    "    recall.append(results_json['evaluation']['recall'])\n",
    "    precision.append(results_json['evaluation']['precision'])\n",
    "    f1.append(results_json['evaluation']['f1'])\n",
    "    training_time.append(float(results_json['training_time'])/60/60)\n",
    "    evaluation_time.append(results_json['evaluation_time'])\n",
    "    losses_tr.append(results_json['losses'])\n",
    "print() #do not remove, prevents duplicate plot bug"
   ]
  },
  {
   "cell_type": "code",
   "execution_count": 36,
   "metadata": {
    "ExecuteTime": {
     "end_time": "2024-05-06T07:23:16.814352Z",
     "start_time": "2024-05-06T07:23:16.614898Z"
    },
    "collapsed": false
   },
   "outputs": [],
   "source": [
    "def get_epoch_averages(losses_list):\n",
    "    epoch_averages = []\n",
    "    for loss_list in losses_list:\n",
    "        avg_list = []\n",
    "        epoch_size = len(loss_list) // 100\n",
    "        for i in range(0, len(loss_list), epoch_size):\n",
    "            avg = sum(loss_list[i:i+epoch_size]) / epoch_size\n",
    "            avg_list.append(avg)\n",
    "        epoch_averages.append(avg_list)\n",
    "    return epoch_averages\n",
    "\n",
    "\n",
    "epoch_averages_train = get_epoch_averages(losses_tr)"
   ]
  },
  {
   "cell_type": "code",
   "execution_count": 37,
   "metadata": {
    "ExecuteTime": {
     "end_time": "2024-05-06T07:23:43.064018Z",
     "start_time": "2024-05-06T07:23:42.876709Z"
    },
    "colab": {
     "base_uri": "https://localhost:8080/",
     "height": 489
    },
    "executionInfo": {
     "elapsed": 316,
     "status": "ok",
     "timestamp": 1713154237882,
     "user": {
      "displayName": "Andrew Vamos",
      "userId": "04562579817850856492"
     },
     "user_tz": 240
    },
    "id": "V0HcBaiMxy39",
    "outputId": "ccb16209-f212-473f-d547-c7c264de7b86"
   },
   "outputs": [
    {
     "data": {
      "image/png": "[encoded data removed]",
      "text/plain": [
       "<Figure size 640x480 with 1 Axes>"
      ]
     },
     "metadata": {},
     "output_type": "display_data"
    },
    {
     "name": "stdout",
     "output_type": "stream",
     "text": [
      "\n"
     ]
    }
   ],
   "source": [
    "%matplotlib inline\n",
    "\n",
    "plt.plot(epoch_averages_train[0],linestyle='-', color='red', label='128 Nodes')\n",
    "plt.plot(epoch_averages_train[1],linestyle='-', color='blue', label='256 Nodes')\n",
    "plt.plot(epoch_averages_train[2],linestyle='-', color='green', label='512 Nodes')\n",
    "plt.plot(epoch_averages_train[3],linestyle='-', color='black', label='1024 Nodes')\n",
    "plt.plot(epoch_averages_train[4],linestyle='-', color='orange', label='2048 Nodes')\n",
    "\n",
    "plt.xlabel(\"Epochs\")\n",
    "plt.ylabel(\"Loss\")\n",
    "plt.title(\"Training Loss Values Per Epoch\")\n",
    "plt.legend(loc=\"upper right\")\n",
    "\n",
    "plt.show()\n",
    "print() #do not remove, prevents duplicate plot bug"
   ]
  },
  {
   "cell_type": "code",
   "execution_count": 38,
   "metadata": {
    "ExecuteTime": {
     "end_time": "2024-05-06T07:26:20.354159Z",
     "start_time": "2024-05-06T07:26:20.166195Z"
    },
    "colab": {
     "base_uri": "https://localhost:8080/",
     "height": 636
    },
    "executionInfo": {
     "elapsed": 637,
     "status": "ok",
     "timestamp": 1713154238516,
     "user": {
      "displayName": "Andrew Vamos",
      "userId": "04562579817850856492"
     },
     "user_tz": 240
    },
    "id": "C-8NhwCcOUAi",
    "outputId": "35ba4caf-5f3a-4505-e9d2-1d2e3dfe780b"
   },
   "outputs": [
    {
     "data": {
      "image/png": "[encoded data removed]",
      "text/plain": [
       "<Figure size 1000x600 with 1 Axes>"
      ]
     },
     "metadata": {},
     "output_type": "display_data"
    },
    {
     "name": "stdout",
     "output_type": "stream",
     "text": [
      "\n"
     ]
    }
   ],
   "source": [
    "%matplotlib inline\n",
    "\n",
    "df_val = pd.DataFrame({\n",
    "                        'roc_auc': roc_auc,\n",
    "                        'acc': acc,\n",
    "                        'recall': recall,\n",
    "                        'precision': precision,\n",
    "                        'f1': f1\n",
    "                        })\n",
    "\n",
    "results_nodes = [\"128\", \"256\", \"512\", \"1024\", \"2048\"]\n",
    "df_val.index = [f'{results_nodes[0]} Nodes', f'{results_nodes[1]} Nodes',\n",
    "            f'{results_nodes[2]} Nodes', f'{results_nodes[3]} Nodes',\n",
    "            f'{results_nodes[4]} Nodes']\n",
    "df_val.plot(kind='bar', figsize=(10, 6))\n",
    "plt.title(\"Model Metrics Comparison on Validation Set\")\n",
    "plt.xlabel(\"#Nodes Per Hidden Layer\")\n",
    "plt.ylabel(\"Metric Value\")\n",
    "plt.xticks(rotation=45)\n",
    "plt.legend(loc='upper left')\n",
    "plt.show()\n",
    "\n",
    "print() #do not remove, prevents duplicate plot bug"
   ]
  },
  {
   "cell_type": "markdown",
   "metadata": {
    "collapsed": false
   },
   "source": [
    "## Results from the Pre-trained *Updated* Model Evaluation on Test Set\n",
    "After loading the pre-trained model, we evaluated it on a designated test set to assess its generalization capability."
   ]
  },
  {
   "cell_type": "code",
   "execution_count": 39,
   "metadata": {
    "ExecuteTime": {
     "end_time": "2024-05-06T07:27:52.659766Z",
     "start_time": "2024-05-06T07:27:52.633948Z"
    },
    "executionInfo": {
     "elapsed": 4,
     "status": "ok",
     "timestamp": 1713154238516,
     "user": {
      "displayName": "Andrew Vamos",
      "userId": "04562579817850856492"
     },
     "user_tz": 240
    },
    "id": "tvO8G-LB6wqe"
   },
   "outputs": [],
   "source": [
    "def test_fnc(_ddi_model,\n",
    "         _threshold=0.47,\n",
    "         metrics=metrics):\n",
    "\n",
    "    _ddi_model.eval()\n",
    "    predictions = []\n",
    "\n",
    "    for test_batch in test_generator:\n",
    "        prediction = _ddi_model(test_batch.drug_features_left, test_batch.drug_features_right)\n",
    "        if isinstance(prediction, collections.abc.Sequence):\n",
    "            prediction = prediction[0]\n",
    "        prediction = prediction.detach().cpu().numpy()\n",
    "        identifiers = test_batch.identifiers\n",
    "        prediction[prediction >= _threshold] = 1\n",
    "        prediction[prediction < _threshold] = 0\n",
    "        identifiers[\"prediction\"] = prediction\n",
    "        predictions.append(identifiers)\n",
    "\n",
    "    predictions_df = pd.concat(predictions)\n",
    "\n",
    "    if metrics is None:\n",
    "        metric_dict = {\"roc_auc\": roc_auc_score}\n",
    "    else:\n",
    "        metric_dict = {name: metric_resolver.lookup(name) for name in metrics}\n",
    "\n",
    "    return {name: func(predictions_df[\"label\"], predictions_df[\"prediction\"]) \\\n",
    "            for name, func in metric_dict.items()}"
   ]
  },
  {
   "cell_type": "code",
   "execution_count": 40,
   "metadata": {
    "ExecuteTime": {
     "end_time": "2024-05-06T07:28:15.198074Z",
     "start_time": "2024-05-06T07:28:04.188182Z"
    },
    "colab": {
     "base_uri": "https://localhost:8080/",
     "height": 0
    },
    "executionInfo": {
     "elapsed": 92503,
     "status": "ok",
     "timestamp": 1713154331016,
     "user": {
      "displayName": "Andrew Vamos",
      "userId": "04562579817850856492"
     },
     "user_tz": 240
    },
    "id": "EZs5wQ8MOuzj",
    "outputId": "f8d84354-8dc0-433f-e1db-b9020ac2c720"
   },
   "outputs": [
    {
     "name": "stdout",
     "output_type": "stream",
     "text": [
      "Testing model with 128 nodes in each layer ...\n",
      "Testing model with 256 nodes in each layer ...\n",
      "Testing model with 512 nodes in each layer ...\n",
      "Testing model with 1024 nodes in each layer ...\n",
      "Testing model with 2048 nodes in each layer ...\n"
     ]
    }
   ],
   "source": [
    "test_results = []\n",
    "results_nodes = [\"128\", \"256\", \"512\", \"1024\", \"2048\"]\n",
    "for idx, model in enumerate(trained_models_upd):\n",
    "    print(f\"Testing model with {results_nodes[idx]} nodes in each layer ...\")\n",
    "    res = test_fnc(model)\n",
    "    test_results.append(res)"
   ]
  },
  {
   "cell_type": "code",
   "execution_count": 41,
   "metadata": {
    "ExecuteTime": {
     "end_time": "2024-05-06T07:28:16.396676Z",
     "start_time": "2024-05-06T07:28:16.235230Z"
    },
    "colab": {
     "base_uri": "https://localhost:8080/",
     "height": 636
    },
    "executionInfo": {
     "elapsed": 428,
     "status": "ok",
     "timestamp": 1713154331433,
     "user": {
      "displayName": "Andrew Vamos",
      "userId": "04562579817850856492"
     },
     "user_tz": 240
    },
    "id": "XB4UdWPBO1YL",
    "outputId": "17b87d03-f45e-4ae4-e9fd-7a9b13216a0e"
   },
   "outputs": [
    {
     "data": {
      "image/png": "[encoded data removed]",
      "text/plain": [
       "<Figure size 1000x600 with 1 Axes>"
      ]
     },
     "metadata": {},
     "output_type": "display_data"
    },
    {
     "name": "stdout",
     "output_type": "stream",
     "text": [
      "\n"
     ]
    }
   ],
   "source": [
    "%matplotlib inline\n",
    "df_test = pd.DataFrame([res for res in test_results])\n",
    "df_test.index = [f'{results_nodes[0]} Nodes', f'{results_nodes[1]} Nodes',\n",
    "            f'{results_nodes[2]} Nodes', f'{results_nodes[3]} Nodes',\n",
    "            f'{results_nodes[4]} Nodes']\n",
    "df_test.plot(kind='bar', figsize=(10, 6))\n",
    "plt.title(\"Model Metrics Comparison on Test Set\")\n",
    "plt.xlabel(\"Model\")\n",
    "plt.ylabel(\"Metric Value\")\n",
    "plt.xticks(rotation=45)\n",
    "plt.legend(loc='upper left')\n",
    "plt.show()\n",
    "\n",
    "print() #do not remove, prevents duplicate plot bug"
   ]
  },
  {
   "cell_type": "code",
   "execution_count": 42,
   "metadata": {
    "ExecuteTime": {
     "end_time": "2024-05-06T07:28:25.377401Z",
     "start_time": "2024-05-06T07:28:25.268837Z"
    },
    "colab": {
     "base_uri": "https://localhost:8080/",
     "height": 581
    },
    "executionInfo": {
     "elapsed": 386,
     "status": "ok",
     "timestamp": 1713154331818,
     "user": {
      "displayName": "Andrew Vamos",
      "userId": "04562579817850856492"
     },
     "user_tz": 240
    },
    "id": "UI4_3gJrO35f",
    "outputId": "b7037572-eb6b-4fff-d2f0-700408bb22fa"
   },
   "outputs": [
    {
     "data": {
      "image/png": "[encoded data removed]",
      "text/plain": [
       "<Figure size 1000x600 with 1 Axes>"
      ]
     },
     "metadata": {},
     "output_type": "display_data"
    },
    {
     "name": "stdout",
     "output_type": "stream",
     "text": [
      "\n"
     ]
    }
   ],
   "source": [
    "%matplotlib inline\n",
    "\n",
    "plt.figure(figsize=(10, 6))\n",
    "plt.plot(df_val.index, df_val['roc_auc'], marker='o', label='Validation Set')\n",
    "plt.plot(df_test.index, df_test['roc_auc'], marker='x', label='Test Set')\n",
    "plt.title(\"roc_auc Comparison\")\n",
    "plt.xlabel(\"Nodes\")\n",
    "plt.ylabel(\"roc_auc Value\")\n",
    "plt.legend()\n",
    "plt.grid(True)\n",
    "plt.show()\n",
    "\n",
    "print() #do not remove, prevents duplicate plot bug"
   ]
  },
  {
   "cell_type": "markdown",
   "metadata": {
    "id": "qH75TNU71eRH"
   },
   "source": [
    "Discussion\n",
    "==========\n",
    "\n",
    "This section goes into our efforts to replicate the findings of the original study using the DeepDDI model, offering insights into the reproducibility of the research, the challenges we faced, and suggestions for enhancing reproducibility in future studies.\n",
    "\n",
    "Assessment of Reproducibility\n",
    "-----------------------------\n",
    "\n",
    "Our experiments with architectural modifications to the DeepDDI model reveal that while it is possible to approach the performance metrics reported in the original paper, discrepancies in data representation (Morgan fingerprints in ChemicalX vs. SSP/PCA in the original paper) pose challenges. These findings underscore the adaptability of DNN architectures but also highlight the need for clarity in reporting the data processing methods in software packages like ChemicalX to better support reproducibility.\n",
    "\n",
    "### What Was Easy:\n",
    "\n",
    "-   Model Architecture Implementation: The detailed description of the DNN architecture in the original paper, coupled with the straightforward implementation available in the ChemicalX package, greatly facilitated the setup and training process. Additionally, the availability of open-source code simplified the implementation of modifications to the model architecture.\n",
    "\n",
    "-   Data Handling: Leveraging the DrugBank dataset via the ChemicalX package made it easy to set up and begin training models efficiently.\n",
    "\n",
    "### What Was Difficult:\n",
    "\n",
    "-   Resource Constraints: Conducting extensive training sessions, especially with larger models, required significant computational time.\n",
    "\n",
    "-   Matching Reported Metrics: Initially replicating the high performance metrics reported in the original study proved challenging, particularly when using different data representations. Our modified models, however, showed that with specific architectural changes, these challenges could be mitigated.\n",
    "\n",
    "-   Data Representation Discrepancies: The unexpected difference in data representation between the original paper and the ChemicalX package --- specifically, the use of Morgan fingerprints instead of SSP/PCA --- forced a last-minute change in our ablation study design. This discrepancy is likely responsible for the variations in our results compared to the original study.\n",
    "\n",
    "-   Legacy Code Compatibility: The code provided in the original paper was developed for Python 2, which posed compatibility issues with modern Python environments that support Python 3. This limitation led us to rely on the ChemicalX package despite the noted issues with data representation.\n",
    "\n",
    "### Suggestions for Improving Reproducibility\n",
    "\n",
    "-   Detailed Computational Environment Reporting: Future studies should provide explicit details about the computational resources used, including specifics on GPU types, memory, and runtime environments, to aid in the accurate replication of results.\n",
    "\n",
    "-   Architectural Variation Testing: We recommend that future reproductions explore a variety of architectural tweaks such as different normalization techniques and the introduction of dropout, as these were found to significantly impact model performance in our tests.\n",
    "\n",
    "Through these experiments, we have demonstrated that even minor modifications in the neural network architecture, such as replacing batch normalization with layer normalization and adding dropout, can lead to noticeable improvements in performance. This suggests that ongoing optimization and testing of DNN parameters are crucial for advancing the field of drug-drug interaction prediction.\n"
   ]
  },
  {
   "cell_type": "markdown",
   "metadata": {
    "id": "SHMI2chl9omn"
   },
   "source": [
    "# References\n",
    "\n",
    "1. Ryu JY, Kim HU, Lee SY (2018) Deep learning improves prediction of drug–drug and drug–food interactions. Proceedings of the National Academy of Sciences 115(18). doi:10.1073/pnas.1803294115.\n",
    "1. AstraZeneca, ChemicalX: A PyTorch and TorchDrug based deep learning library for drug pair scoring. GitHub repository, 2022. [Online]. Available: https://github.com/AstraZeneca/chemicalx/\n",
    "1. Fonseca Santiesteban, A., ChemicalX fork for Python 3.10 compatibility. GitHub repository, 2024. [Online]. Available: https://github.com/lucag2/chemicalx#egg=chemicalx\n",
    "1. Wishart DS, et al. (2017) DrugBank 5.0: A major update to the DrugBank database for 2018. Nucleic Acids Res 46:D1074–D1082.\n",
    "1. ChemicalX developers, \"DrugBank DDI.\" ChemicalX Documentation, 2024. [Online]. Available: https://chemicalx.readthedocs.io/en/latest/notes/data_processing.html#drugbank-ddi"
   ]
  },
  {
   "cell_type": "code",
   "execution_count": null,
   "metadata": {
    "collapsed": false
   },
   "outputs": [],
   "source": []
  }
 ],
 "metadata": {
  "colab": {
   "provenance": [
    {
     "file_id": "1oAKqszNlwEZwPa_BjHPqfcoWlikYBpi5",
     "timestamp": 1709153069464
    }
   ]
  },
  "kernelspec": {
   "display_name": "Python 3 (ipykernel)",
   "language": "python",
   "name": "python3"
  },
  "language_info": {
   "codemirror_mode": {
    "name": "ipython",
    "version": 3
   },
   "file_extension": ".py",
   "mimetype": "text/x-python",
   "name": "python",
   "nbconvert_exporter": "python",
   "pygments_lexer": "ipython3",
   "version": "3.10.14"
  }
 },
 "nbformat": 4,
 "nbformat_minor": 0
}
